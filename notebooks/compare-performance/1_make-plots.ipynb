{
 "cells": [
  {
   "cell_type": "markdown",
   "metadata": {},
   "source": [
    "# Make Plots for Paper\n",
    "This notebook repeats some analyses from the previous notebooks, but with greater emphasis on making a better model."
   ]
  },
  {
   "cell_type": "code",
   "execution_count": 1,
   "metadata": {},
   "outputs": [],
   "source": [
    "%matplotlib inline\n",
    "from matplotlib import pyplot as plt\n",
    "import pandas as pd\n",
    "import numpy as np\n",
    "import os"
   ]
  },
  {
   "cell_type": "markdown",
   "metadata": {},
   "source": [
    "## Load in the Reference Run\n",
    "We are going to use the multi-objective run with the production runs"
   ]
  },
  {
   "cell_type": "code",
   "execution_count": 2,
   "metadata": {},
   "outputs": [],
   "source": [
    "mo_traj = pd.read_csv(os.path.join('reference-runs', 'MO', 'molecules.csv'))"
   ]
  },
  {
   "cell_type": "code",
   "execution_count": 3,
   "metadata": {},
   "outputs": [],
   "source": [
    "ic_traj = pd.read_csv(os.path.join('reference-runs', 'ic50', 'molecules.csv'))"
   ]
  },
  {
   "cell_type": "markdown",
   "metadata": {},
   "source": [
    "## Plot the Search Performance\n",
    "Show how well adding in the multi-objective works"
   ]
  },
  {
   "cell_type": "code",
   "execution_count": 4,
   "metadata": {},
   "outputs": [],
   "source": [
    "for d in [mo_traj, ic_traj]:\n",
    "    d['unique'] = False\n",
    "    d.loc[d.drop_duplicates('smiles', keep='first').index, 'unique'] = True"
   ]
  },
  {
   "cell_type": "code",
   "execution_count": 5,
   "metadata": {},
   "outputs": [
    {
     "data": {
      "image/png": "[encoded data removed]",
      "text/plain": [
       "<Figure size 252x144 with 1 Axes>"
      ]
     },
     "metadata": {
      "needs_background": "light"
     },
     "output_type": "display_data"
    }
   ],
   "source": [
    "fig, ax = plt.subplots(figsize=(3.5, 2))\n",
    "\n",
    "for d, c, m, l in zip([mo_traj, ic_traj], ['firebrick', 'mediumblue'], \n",
    "                      ['o', 'v'], ['MO', 'pIC$_{50}$']):\n",
    "    ax.plot(np.logical_and(d['ic50'] > 8, d['unique']).cumsum(), f'-{m}',\n",
    "           color=c, markevery=40000, label=l)\n",
    "    ax.plot(((d['ic50'] > 8) & (d['QED'] > 0.5) & mo_traj['unique']).cumsum(), '--o',\n",
    "            marker=m, color=c, markevery=40000)    \n",
    "    \n",
    "ax.legend()\n",
    "\n",
    "ax.set_xlabel('Steps')\n",
    "ax.set_ylabel('Candidates Found')\n",
    "fig.tight_layout()\n",
    "fig.savefig(os.path.join('figures', 'rl_trajectory.png'), dpi=320)\n",
    "fig.savefig(os.path.join('figures', 'rl_trajectory.pdf'))"
   ]
  },
  {
   "cell_type": "markdown",
   "metadata": {},
   "source": [
    "Print the fraction of \"top\" molecules with good QED"
   ]
  },
  {
   "cell_type": "code",
   "execution_count": 6,
   "metadata": {},
   "outputs": [
    {
     "name": "stdout",
     "output_type": "stream",
     "text": [
      "MO model. 14953 with pIC50 > 8. 9954 ( 66.57%) of those with QED > 0.5\n",
      "pIC$_{50}$ model. 20850 with pIC50 > 8. 938 ( 4.50%) of those with QED > 0.5\n"
     ]
    }
   ],
   "source": [
    "for d, l in zip([mo_traj, ic_traj], ['MO', 'pIC$_{50}$']):\n",
    "    n_top = np.logical_and(d['ic50'] > 8, d['unique']).sum()\n",
    "    n_top_qed = ((d['ic50'] > 8) & (d['QED'] > 0.5) & mo_traj['unique']).sum()\n",
    "    print(f'{l} model. {n_top} with pIC50 > 8.'\n",
    "          f' {n_top_qed} ({n_top_qed / n_top * 100: .2f}%) of those with QED > 0.5')"
   ]
  },
  {
   "cell_type": "code",
   "execution_count": null,
   "metadata": {},
   "outputs": [],
   "source": []
  }
 ],
 "metadata": {
  "kernelspec": {
   "display_name": "Python 3",
   "language": "python",
   "name": "python3"
  },
  "language_info": {
   "codemirror_mode": {
    "name": "ipython",
    "version": 3
   },
   "file_extension": ".py",
   "mimetype": "text/x-python",
   "name": "python",
   "nbconvert_exporter": "python",
   "pygments_lexer": "ipython3",
   "version": "3.6.10"
  }
 },
 "nbformat": 4,
 "nbformat_minor": 4
}

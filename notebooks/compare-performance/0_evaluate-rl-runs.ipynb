{
 "cells": [
  {
   "cell_type": "markdown",
   "metadata": {},
   "source": [
    "# Collect RL Results\n",
    "Summarize the different RL runs we have completed and assess the best ones"
   ]
  },
  {
   "cell_type": "code",
   "execution_count": 1,
   "metadata": {},
   "outputs": [],
   "source": [
    "%matplotlib inline\n",
    "from matplotlib import pyplot as plt\n",
    "from datetime import datetime\n",
    "from glob import glob\n",
    "import pandas as pd\n",
    "import numpy as np\n",
    "import json\n",
    "import os"
   ]
  },
  {
   "cell_type": "markdown",
   "metadata": {},
   "source": [
    "## Find RL Runs\n",
    "They are in the root directory of this project"
   ]
  },
  {
   "cell_type": "code",
   "execution_count": 2,
   "metadata": {},
   "outputs": [
    {
     "name": "stdout",
     "output_type": "stream",
     "text": [
      "Found 30 run directories\n"
     ]
    }
   ],
   "source": [
    "dirs = list(filter(os.path.isdir, glob(os.path.join('..', '..', 'rl_tests', '*'))))\n",
    "print(f'Found {len(dirs)} run directories')"
   ]
  },
  {
   "cell_type": "markdown",
   "metadata": {},
   "source": [
    "## Create Utility Functions\n",
    "Functions for reading in results from a run and putting them in a summary that is easy to sort through"
   ]
  },
  {
   "cell_type": "code",
   "execution_count": 3,
   "metadata": {},
   "outputs": [],
   "source": [
    "def summarize_run(path: str) -> dict:\n",
    "    \"\"\"Summarize the performance of a certain run\n",
    "    \n",
    "    Args:\n",
    "        path (str): Path to the ML run\n",
    "    Returns:\n",
    "        (dict) Run summary\n",
    "    \"\"\"\n",
    "    \n",
    "    # First, load in the configuratoin\n",
    "    with open(os.path.join(path, 'config.json')) as fp:\n",
    "        output = json.load(fp)\n",
    "    output['path'] = path\n",
    "        \n",
    "    # Load in the name of the system and some other performance details\n",
    "    perf_path = os.path.join(path, 'performance.json')\n",
    "    if os.path.isfile(perf_path):\n",
    "        with open(perf_path) as fp:\n",
    "            perf = json.load(fp)\n",
    "            for k in ['hostname', 'runtime']:\n",
    "                output[k] = perf[k]\n",
    "        output['complete'] = True\n",
    "    else:\n",
    "        output['complete'] = False\n",
    "            \n",
    "    # Assess the run data\n",
    "    try:\n",
    "        mols = pd.read_csv(os.path.join(path, 'molecules.csv'))\n",
    "    except:\n",
    "        return output\n",
    "    if not output['maximize']:\n",
    "        mols['reward'] = -1 * mols['reward']\n",
    "    output['episodes_completed'] = mols['episode'].max() + 1\n",
    "    output['rewards_computed'] = len(mols)\n",
    "    output['unique_molecules'] = len(set(mols['smiles']))\n",
    "    output['unique_fraction'] = output['unique_molecules'] / len(mols)\n",
    "    output['best_found'] = mols['ic50'].max()\n",
    "    output['pIC50_above_8'] = len(set(mols[mols['ic50'] > 8]['smiles']))\n",
    "        \n",
    "    return output"
   ]
  },
  {
   "cell_type": "code",
   "execution_count": 4,
   "metadata": {},
   "outputs": [],
   "source": [
    "results = pd.DataFrame(summarize_run(x) for x in dirs)"
   ]
  },
  {
   "cell_type": "code",
   "execution_count": 5,
   "metadata": {},
   "outputs": [
    {
     "data": {
      "text/html": [
       "<div>\n",
       "<style scoped>\n",
       "    .dataframe tbody tr th:only-of-type {\n",
       "        vertical-align: middle;\n",
       "    }\n",
       "\n",
       "    .dataframe tbody tr th {\n",
       "        vertical-align: top;\n",
       "    }\n",
       "\n",
       "    .dataframe thead th {\n",
       "        text-align: right;\n",
       "    }\n",
       "</style>\n",
       "<table border=\"1\" class=\"dataframe\">\n",
       "  <thead>\n",
       "    <tr style=\"text-align: right;\">\n",
       "      <th></th>\n",
       "      <th>epsilon</th>\n",
       "      <th>max_steps</th>\n",
       "      <th>episodes</th>\n",
       "      <th>episodes_completed</th>\n",
       "      <th>path</th>\n",
       "      <th>no_backtrack</th>\n",
       "      <th>gamma</th>\n",
       "      <th>reward</th>\n",
       "      <th>epsilon_decay</th>\n",
       "      <th>q_update_freq</th>\n",
       "      <th>best_found</th>\n",
       "      <th>pIC50_above_8</th>\n",
       "    </tr>\n",
       "  </thead>\n",
       "  <tbody>\n",
       "    <tr>\n",
       "      <th>22</th>\n",
       "      <td>1.0</td>\n",
       "      <td>80</td>\n",
       "      <td>5000</td>\n",
       "      <td>2112.0</td>\n",
       "      <td>../../rl_tests/2020-06-11T18.21.14.076564_ic50</td>\n",
       "      <td>False</td>\n",
       "      <td>0.9</td>\n",
       "      <td>ic50</td>\n",
       "      <td>0.9950</td>\n",
       "      <td>10</td>\n",
       "      <td>10.985413</td>\n",
       "      <td>26870.0</td>\n",
       "    </tr>\n",
       "    <tr>\n",
       "      <th>11</th>\n",
       "      <td>1.0</td>\n",
       "      <td>80</td>\n",
       "      <td>5000</td>\n",
       "      <td>5000.0</td>\n",
       "      <td>../../rl_tests/ic50_2020-06-12T10.51.25.454421</td>\n",
       "      <td>False</td>\n",
       "      <td>0.9</td>\n",
       "      <td>ic50</td>\n",
       "      <td>0.9950</td>\n",
       "      <td>10</td>\n",
       "      <td>10.766213</td>\n",
       "      <td>49548.0</td>\n",
       "    </tr>\n",
       "    <tr>\n",
       "      <th>15</th>\n",
       "      <td>1.0</td>\n",
       "      <td>80</td>\n",
       "      <td>5000</td>\n",
       "      <td>5000.0</td>\n",
       "      <td>../../rl_tests/ic50_2020-06-15T06.48.39.315957</td>\n",
       "      <td>False</td>\n",
       "      <td>0.9</td>\n",
       "      <td>ic50</td>\n",
       "      <td>0.9995</td>\n",
       "      <td>10</td>\n",
       "      <td>10.610582</td>\n",
       "      <td>50213.0</td>\n",
       "    </tr>\n",
       "    <tr>\n",
       "      <th>20</th>\n",
       "      <td>1.0</td>\n",
       "      <td>40</td>\n",
       "      <td>5000</td>\n",
       "      <td>5000.0</td>\n",
       "      <td>../../rl_tests/ic50_2020-06-14T09.15.46.720226</td>\n",
       "      <td>False</td>\n",
       "      <td>0.9</td>\n",
       "      <td>ic50</td>\n",
       "      <td>0.9995</td>\n",
       "      <td>10</td>\n",
       "      <td>10.565168</td>\n",
       "      <td>20850.0</td>\n",
       "    </tr>\n",
       "    <tr>\n",
       "      <th>23</th>\n",
       "      <td>1.0</td>\n",
       "      <td>40</td>\n",
       "      <td>5000</td>\n",
       "      <td>5000.0</td>\n",
       "      <td>../../rl_tests/2020-06-11T17.26.22.623448_ic50</td>\n",
       "      <td>False</td>\n",
       "      <td>0.9</td>\n",
       "      <td>ic50</td>\n",
       "      <td>0.9950</td>\n",
       "      <td>10</td>\n",
       "      <td>10.340915</td>\n",
       "      <td>16423.0</td>\n",
       "    </tr>\n",
       "    <tr>\n",
       "      <th>28</th>\n",
       "      <td>1.0</td>\n",
       "      <td>40</td>\n",
       "      <td>5000</td>\n",
       "      <td>5000.0</td>\n",
       "      <td>../../rl_tests/ic50_2020-06-12T10.50.21.000992</td>\n",
       "      <td>False</td>\n",
       "      <td>0.0</td>\n",
       "      <td>ic50</td>\n",
       "      <td>0.9950</td>\n",
       "      <td>10</td>\n",
       "      <td>9.734042</td>\n",
       "      <td>663.0</td>\n",
       "    </tr>\n",
       "  </tbody>\n",
       "</table>\n",
       "</div>"
      ],
      "text/plain": [
       "    epsilon  max_steps  episodes  episodes_completed  \\\n",
       "22      1.0         80      5000              2112.0   \n",
       "11      1.0         80      5000              5000.0   \n",
       "15      1.0         80      5000              5000.0   \n",
       "20      1.0         40      5000              5000.0   \n",
       "23      1.0         40      5000              5000.0   \n",
       "28      1.0         40      5000              5000.0   \n",
       "\n",
       "                                              path  no_backtrack  gamma  \\\n",
       "22  ../../rl_tests/2020-06-11T18.21.14.076564_ic50         False    0.9   \n",
       "11  ../../rl_tests/ic50_2020-06-12T10.51.25.454421         False    0.9   \n",
       "15  ../../rl_tests/ic50_2020-06-15T06.48.39.315957         False    0.9   \n",
       "20  ../../rl_tests/ic50_2020-06-14T09.15.46.720226         False    0.9   \n",
       "23  ../../rl_tests/2020-06-11T17.26.22.623448_ic50         False    0.9   \n",
       "28  ../../rl_tests/ic50_2020-06-12T10.50.21.000992         False    0.0   \n",
       "\n",
       "   reward  epsilon_decay  q_update_freq  best_found  pIC50_above_8  \n",
       "22   ic50         0.9950             10   10.985413        26870.0  \n",
       "11   ic50         0.9950             10   10.766213        49548.0  \n",
       "15   ic50         0.9995             10   10.610582        50213.0  \n",
       "20   ic50         0.9995             10   10.565168        20850.0  \n",
       "23   ic50         0.9950             10   10.340915        16423.0  \n",
       "28   ic50         0.9950             10    9.734042          663.0  "
      ]
     },
     "execution_count": 5,
     "metadata": {},
     "output_type": "execute_result"
    }
   ],
   "source": [
    "columns_to_disp = ['epsilon', 'max_steps', 'episodes', 'episodes_completed', 'path',\n",
    "                   'no_backtrack', 'gamma', 'reward', 'epsilon_decay', 'q_update_freq', 'best_found', 'pIC50_above_8']\n",
    "results.query('reward==\"ic50\"').sort_values('best_found', ascending=False).head(6)[columns_to_disp]"
   ]
  },
  {
   "cell_type": "code",
   "execution_count": 6,
   "metadata": {},
   "outputs": [],
   "source": [
    "results.to_json('runs.json')"
   ]
  },
  {
   "cell_type": "markdown",
   "metadata": {},
   "source": [
    "## Compare the Performance for the \"Best One\"\n",
    "Get the run that finds the best molecule and compare it to brute force searching"
   ]
  },
  {
   "cell_type": "markdown",
   "metadata": {},
   "source": [
    "Load in the random search data"
   ]
  },
  {
   "cell_type": "code",
   "execution_count": 7,
   "metadata": {},
   "outputs": [],
   "source": [
    "random_search = pd.read_csv(os.path.join('..', 'baseline', 'random_search_perf_pIC50_mpnn.csv'))"
   ]
  },
  {
   "cell_type": "markdown",
   "metadata": {},
   "source": [
    "Load in the best values"
   ]
  },
  {
   "cell_type": "code",
   "execution_count": 8,
   "metadata": {},
   "outputs": [],
   "source": [
    "with open(os.path.join('..', 'baseline', 'top_pIC50_mpnn.json')) as fp:\n",
    "    best_e15 = json.load(fp)"
   ]
  },
  {
   "cell_type": "markdown",
   "metadata": {},
   "source": [
    "Find the best run"
   ]
  },
  {
   "cell_type": "code",
   "execution_count": 9,
   "metadata": {},
   "outputs": [
    {
     "data": {
      "text/html": [
       "<div>\n",
       "<style scoped>\n",
       "    .dataframe tbody tr th:only-of-type {\n",
       "        vertical-align: middle;\n",
       "    }\n",
       "\n",
       "    .dataframe tbody tr th {\n",
       "        vertical-align: top;\n",
       "    }\n",
       "\n",
       "    .dataframe thead th {\n",
       "        text-align: right;\n",
       "    }\n",
       "</style>\n",
       "<table border=\"1\" class=\"dataframe\">\n",
       "  <thead>\n",
       "    <tr style=\"text-align: right;\">\n",
       "      <th></th>\n",
       "      <th>epsilon</th>\n",
       "      <th>max_steps</th>\n",
       "      <th>episodes</th>\n",
       "      <th>episodes_completed</th>\n",
       "      <th>path</th>\n",
       "      <th>no_backtrack</th>\n",
       "      <th>gamma</th>\n",
       "      <th>reward</th>\n",
       "      <th>epsilon_decay</th>\n",
       "      <th>q_update_freq</th>\n",
       "      <th>best_found</th>\n",
       "      <th>pIC50_above_8</th>\n",
       "    </tr>\n",
       "  </thead>\n",
       "  <tbody>\n",
       "    <tr>\n",
       "      <th>13</th>\n",
       "      <td>1.0</td>\n",
       "      <td>40</td>\n",
       "      <td>5000</td>\n",
       "      <td>5000.0</td>\n",
       "      <td>../../rl_tests/2020-06-11T17.29.05.994330_MO</td>\n",
       "      <td>False</td>\n",
       "      <td>0.9</td>\n",
       "      <td>MO</td>\n",
       "      <td>0.9995</td>\n",
       "      <td>10</td>\n",
       "      <td>10.827705</td>\n",
       "      <td>15932.0</td>\n",
       "    </tr>\n",
       "    <tr>\n",
       "      <th>3</th>\n",
       "      <td>1.0</td>\n",
       "      <td>40</td>\n",
       "      <td>5000</td>\n",
       "      <td>5000.0</td>\n",
       "      <td>../../rl_tests/MO_2020-06-14T09.15.46.665975</td>\n",
       "      <td>False</td>\n",
       "      <td>0.9</td>\n",
       "      <td>MO</td>\n",
       "      <td>0.9995</td>\n",
       "      <td>10</td>\n",
       "      <td>10.758287</td>\n",
       "      <td>14953.0</td>\n",
       "    </tr>\n",
       "  </tbody>\n",
       "</table>\n",
       "</div>"
      ],
      "text/plain": [
       "    epsilon  max_steps  episodes  episodes_completed  \\\n",
       "13      1.0         40      5000              5000.0   \n",
       "3       1.0         40      5000              5000.0   \n",
       "\n",
       "                                            path  no_backtrack  gamma reward  \\\n",
       "13  ../../rl_tests/2020-06-11T17.29.05.994330_MO         False    0.9     MO   \n",
       "3   ../../rl_tests/MO_2020-06-14T09.15.46.665975         False    0.9     MO   \n",
       "\n",
       "    epsilon_decay  q_update_freq  best_found  pIC50_above_8  \n",
       "13         0.9995             10   10.827705        15932.0  \n",
       "3          0.9995             10   10.758287        14953.0  "
      ]
     },
     "execution_count": 9,
     "metadata": {},
     "output_type": "execute_result"
    }
   ],
   "source": [
    "best_ic50 = results.query('reward==\"MO\" and max_steps==40').sort_values('pIC50_above_8', ascending=False).head(2)\n",
    "best_ic50[columns_to_disp]"
   ]
  },
  {
   "cell_type": "code",
   "execution_count": 10,
   "metadata": {},
   "outputs": [
    {
     "name": "stdout",
     "output_type": "stream",
     "text": [
      "Chose ../../rl_tests/2020-06-11T17.29.05.994330_MO\n"
     ]
    }
   ],
   "source": [
    "best_run = best_ic50['path'].iloc[0]\n",
    "print(f'Chose {best_run}')"
   ]
  },
  {
   "cell_type": "code",
   "execution_count": 11,
   "metadata": {},
   "outputs": [
    {
     "data": {
      "text/plain": [
       "'../../rl_tests/2020-06-11T17.29.05.994330_MO'"
      ]
     },
     "execution_count": 11,
     "metadata": {},
     "output_type": "execute_result"
    }
   ],
   "source": [
    "best_run"
   ]
  },
  {
   "cell_type": "markdown",
   "metadata": {},
   "source": [
    "Load in the trajectory for that run"
   ]
  },
  {
   "cell_type": "code",
   "execution_count": 12,
   "metadata": {},
   "outputs": [],
   "source": [
    "mols = pd.read_csv(os.path.join(best_run, 'molecules.csv'))"
   ]
  },
  {
   "cell_type": "code",
   "execution_count": 13,
   "metadata": {},
   "outputs": [
    {
     "data": {
      "text/plain": [
       "Text(0, 0.5, 'Best pIC50')"
      ]
     },
     "execution_count": 13,
     "metadata": {},
     "output_type": "execute_result"
    },
    {
     "data": {
      "image/png": "[encoded data removed]",
      "text/plain": [
       "<Figure size 252x180 with 1 Axes>"
      ]
     },
     "metadata": {
      "needs_background": "light"
     },
     "output_type": "display_data"
    }
   ],
   "source": [
    "fig, ax = plt.subplots(figsize=(3.5, 2.5))\n",
    "\n",
    "ax.plot(mols['ic50'].cummax(), label='RL')\n",
    "ax.plot(random_search['best_mean'], label='E15', color='gray')\n",
    "ax.fill_between(range(len(random_search)), \n",
    "                random_search['best_mean'] + random_search['best_sem'], \n",
    "                random_search['best_mean'] - random_search['best_sem'],\n",
    "                alpha=0.5, color='gray')\n",
    "\n",
    "ax.set_xlim(0, len(mols))\n",
    "ax.set_ylim(4, 16)\n",
    "\n",
    "ax.plot(ax.get_xlim(), [best_e15['best']]*2, 'k--')\n",
    "ax.text(100, best_e15['best'] - 0.5, 'Best in E15', ha='left', va='top')\n",
    "\n",
    "ax.legend()\n",
    "\n",
    "ax.set_xlabel('# Tested')\n",
    "ax.set_ylabel('Best pIC50')"
   ]
  },
  {
   "cell_type": "markdown",
   "metadata": {},
   "source": [
    "Plot the number with pIC50>8 found"
   ]
  },
  {
   "cell_type": "code",
   "execution_count": 14,
   "metadata": {},
   "outputs": [],
   "source": [
    "mols['unique'] = False\n",
    "mols.loc[mols.drop_duplicates('smiles', keep='first').index, 'unique'] = True"
   ]
  },
  {
   "cell_type": "code",
   "execution_count": 15,
   "metadata": {},
   "outputs": [
    {
     "data": {
      "text/plain": [
       "False    115843\n",
       "True      66605\n",
       "Name: unique, dtype: int64"
      ]
     },
     "execution_count": 15,
     "metadata": {},
     "output_type": "execute_result"
    }
   ],
   "source": [
    "mols['unique'].value_counts()"
   ]
  },
  {
   "cell_type": "code",
   "execution_count": 16,
   "metadata": {},
   "outputs": [
    {
     "data": {
      "text/plain": [
       "Text(0, 0.5, 'Unique Mols with pIC50 > 8')"
      ]
     },
     "execution_count": 16,
     "metadata": {},
     "output_type": "execute_result"
    },
    {
     "data": {
      "image/png": "[encoded data removed]",
      "text/plain": [
       "<Figure size 252x180 with 1 Axes>"
      ]
     },
     "metadata": {
      "needs_background": "light"
     },
     "output_type": "display_data"
    }
   ],
   "source": [
    "fig, ax = plt.subplots(figsize=(3.5, 2.5))\n",
    "\n",
    "ax.plot(np.logical_and(mols['ic50'] > 8, mols['unique']).cumsum(), label='RL')\n",
    "ax.plot(random_search['past_thresh_mean'], label='E15', color='gray')\n",
    "ax.fill_between(range(len(random_search)), \n",
    "                random_search['past_thresh_mean'] + random_search['past_thresh_sem'], \n",
    "                random_search['past_thresh_mean'] - random_search['past_thresh_sem'],\n",
    "                alpha=0.5, color='gray')\n",
    "\n",
    "ax.set_xlim(0, len(mols))\n",
    "ax.set_ylim(0, 30000)\n",
    "\n",
    "ax.legend()\n",
    "\n",
    "ax.set_xlabel('Mols Evaluated')\n",
    "ax.set_ylabel('Unique Mols with pIC50 > 8')"
   ]
  },
  {
   "cell_type": "markdown",
   "metadata": {},
   "source": [
    "Plot the Pareto Surface"
   ]
  },
  {
   "cell_type": "code",
   "execution_count": 17,
   "metadata": {},
   "outputs": [
    {
     "data": {
      "text/plain": [
       "Index(['episode', 'step', 'epsilon', 'smiles', 'reward', 'q', 'random', 'loss',\n",
       "       'logP', 'ic50', 'QED', 'SA', 'cycles', 'unique'],\n",
       "      dtype='object')"
      ]
     },
     "execution_count": 17,
     "metadata": {},
     "output_type": "execute_result"
    }
   ],
   "source": [
    "mols.columns"
   ]
  },
  {
   "cell_type": "code",
   "execution_count": 18,
   "metadata": {},
   "outputs": [
    {
     "data": {
      "text/plain": [
       "(8.0, 11.0)"
      ]
     },
     "execution_count": 18,
     "metadata": {},
     "output_type": "execute_result"
    },
    {
     "data": {
      "image/png": "[encoded data removed]",
      "text/plain": [
       "<Figure size 252x180 with 1 Axes>"
      ]
     },
     "metadata": {
      "needs_background": "light"
     },
     "output_type": "display_data"
    }
   ],
   "source": [
    "fig, ax = plt.subplots(figsize=(3.5, 2.5))\n",
    "\n",
    "ax.scatter(mols['ic50'], mols['QED'], alpha=0.2, s=0.5, edgecolor='none')\n",
    "\n",
    "ax.set_ylabel('QED')\n",
    "ax.set_xlabel('pIC50')\n",
    "ax.set_xlim(8, 11)"
   ]
  },
  {
   "cell_type": "markdown",
   "metadata": {},
   "source": [
    "*Finding*: There are generally clustered in the \"low QED\" but \"high pIC50\" region"
   ]
  },
  {
   "cell_type": "markdown",
   "metadata": {},
   "source": [
    "## Get the Runs for the Paper\n",
    "Get all of the runs with the same settings"
   ]
  },
  {
   "cell_type": "markdown",
   "metadata": {},
   "source": [
    "The \"paper standard\" settings"
   ]
  },
  {
   "cell_type": "code",
   "execution_count": 19,
   "metadata": {},
   "outputs": [],
   "source": [
    "settings = {\n",
    "    \"epsilon\": 1.0,\n",
    "    \"epsilon_decay\": 0.9995,\n",
    "    \"max_steps\": 40,\n",
    "    \"episodes\": 5000,\n",
    "    \"q_update_freq\": 10,\n",
    "    \"hidden_layers\": [1024, 512, 128, 32],\n",
    "    \"gamma\": 0.9,\n",
    "    \"fingerprint_size\": 2048,\n",
    "    \"batch_size\": 32,\n",
    "    \"no_backtrack\": False\n",
    "}"
   ]
  },
  {
   "cell_type": "markdown",
   "metadata": {},
   "source": [
    "Filter down to the runs we want"
   ]
  },
  {
   "cell_type": "code",
   "execution_count": 20,
   "metadata": {},
   "outputs": [],
   "source": [
    "def save_records(settings: dict, out_directory: str): \n",
    "    \"\"\"Save the best runs for a certain setting for all reward functions\n",
    "    \n",
    "    Args:\n",
    "        settings (dict): Settigns for the runs\n",
    "        out_directory (str): Output directory\n",
    "    Returns:\n",
    "        (DataFrame) Matched runs\n",
    "    \"\"\"\n",
    "    \n",
    "    # Filter down to the desired settings\n",
    "    prod_runs = results.copy()\n",
    "    for crit, value in settings.items():\n",
    "        prod_runs = prod_runs[~prod_runs[crit].isnull()]\n",
    "        prod_runs = prod_runs[prod_runs[crit].apply(json.dumps) == json.dumps(value)]\n",
    "\n",
    "    # Get one run per reward function\n",
    "    prod_runs.sort_values('episodes_completed', ascending=False, inplace=True)\n",
    "    prod_runs.drop_duplicates('reward', inplace=True)\n",
    "\n",
    "    # Make a symbolic link to each directory\n",
    "    os.makedirs(out_directory, exist_ok=True)\n",
    "    for i, row in prod_runs.iterrows():\n",
    "        if not row['complete']:\n",
    "            print(f'Warning: {row[\"reward\"]} is not done')\n",
    "        ref_path = os.path.relpath(row['path'], out_directory)\n",
    "        link_path = os.path.join(out_directory, row['reward'])\n",
    "        if os.path.exists(link_path):\n",
    "            os.unlink(link_path)\n",
    "        os.symlink(ref_path, link_path)\n",
    "    return prod_runs.sort_values('reward')"
   ]
  },
  {
   "cell_type": "code",
   "execution_count": 21,
   "metadata": {},
   "outputs": [
    {
     "data": {
      "text/html": [
       "<div>\n",
       "<style scoped>\n",
       "    .dataframe tbody tr th:only-of-type {\n",
       "        vertical-align: middle;\n",
       "    }\n",
       "\n",
       "    .dataframe tbody tr th {\n",
       "        vertical-align: top;\n",
       "    }\n",
       "\n",
       "    .dataframe thead th {\n",
       "        text-align: right;\n",
       "    }\n",
       "</style>\n",
       "<table border=\"1\" class=\"dataframe\">\n",
       "  <thead>\n",
       "    <tr style=\"text-align: right;\">\n",
       "      <th></th>\n",
       "      <th>epsilon</th>\n",
       "      <th>max_steps</th>\n",
       "      <th>episodes</th>\n",
       "      <th>episodes_completed</th>\n",
       "      <th>path</th>\n",
       "      <th>no_backtrack</th>\n",
       "      <th>gamma</th>\n",
       "      <th>reward</th>\n",
       "      <th>epsilon_decay</th>\n",
       "      <th>q_update_freq</th>\n",
       "      <th>best_found</th>\n",
       "      <th>pIC50_above_8</th>\n",
       "    </tr>\n",
       "  </thead>\n",
       "  <tbody>\n",
       "    <tr>\n",
       "      <th>3</th>\n",
       "      <td>1.0</td>\n",
       "      <td>40</td>\n",
       "      <td>5000</td>\n",
       "      <td>5000.0</td>\n",
       "      <td>../../rl_tests/MO_2020-06-14T09.15.46.665975</td>\n",
       "      <td>False</td>\n",
       "      <td>0.9</td>\n",
       "      <td>MO</td>\n",
       "      <td>0.9995</td>\n",
       "      <td>10</td>\n",
       "      <td>10.758287</td>\n",
       "      <td>14953.0</td>\n",
       "    </tr>\n",
       "    <tr>\n",
       "      <th>8</th>\n",
       "      <td>1.0</td>\n",
       "      <td>40</td>\n",
       "      <td>5000</td>\n",
       "      <td>5000.0</td>\n",
       "      <td>../../rl_tests/QED_2020-06-15T18.38.19.201799</td>\n",
       "      <td>False</td>\n",
       "      <td>0.9</td>\n",
       "      <td>QED</td>\n",
       "      <td>0.9995</td>\n",
       "      <td>10</td>\n",
       "      <td>10.502693</td>\n",
       "      <td>780.0</td>\n",
       "    </tr>\n",
       "    <tr>\n",
       "      <th>20</th>\n",
       "      <td>1.0</td>\n",
       "      <td>40</td>\n",
       "      <td>5000</td>\n",
       "      <td>5000.0</td>\n",
       "      <td>../../rl_tests/ic50_2020-06-14T09.15.46.720226</td>\n",
       "      <td>False</td>\n",
       "      <td>0.9</td>\n",
       "      <td>ic50</td>\n",
       "      <td>0.9995</td>\n",
       "      <td>10</td>\n",
       "      <td>10.565168</td>\n",
       "      <td>20850.0</td>\n",
       "    </tr>\n",
       "    <tr>\n",
       "      <th>9</th>\n",
       "      <td>1.0</td>\n",
       "      <td>40</td>\n",
       "      <td>5000</td>\n",
       "      <td>5000.0</td>\n",
       "      <td>../../rl_tests/logP_2020-06-14T09.15.46.495174</td>\n",
       "      <td>False</td>\n",
       "      <td>0.9</td>\n",
       "      <td>logP</td>\n",
       "      <td>0.9995</td>\n",
       "      <td>10</td>\n",
       "      <td>10.897053</td>\n",
       "      <td>3453.0</td>\n",
       "    </tr>\n",
       "  </tbody>\n",
       "</table>\n",
       "</div>"
      ],
      "text/plain": [
       "    epsilon  max_steps  episodes  episodes_completed  \\\n",
       "3       1.0         40      5000              5000.0   \n",
       "8       1.0         40      5000              5000.0   \n",
       "20      1.0         40      5000              5000.0   \n",
       "9       1.0         40      5000              5000.0   \n",
       "\n",
       "                                              path  no_backtrack  gamma  \\\n",
       "3     ../../rl_tests/MO_2020-06-14T09.15.46.665975         False    0.9   \n",
       "8    ../../rl_tests/QED_2020-06-15T18.38.19.201799         False    0.9   \n",
       "20  ../../rl_tests/ic50_2020-06-14T09.15.46.720226         False    0.9   \n",
       "9   ../../rl_tests/logP_2020-06-14T09.15.46.495174         False    0.9   \n",
       "\n",
       "   reward  epsilon_decay  q_update_freq  best_found  pIC50_above_8  \n",
       "3      MO         0.9995             10   10.758287        14953.0  \n",
       "8     QED         0.9995             10   10.502693          780.0  \n",
       "20   ic50         0.9995             10   10.565168        20850.0  \n",
       "9    logP         0.9995             10   10.897053         3453.0  "
      ]
     },
     "execution_count": 21,
     "metadata": {},
     "output_type": "execute_result"
    }
   ],
   "source": [
    "save_records(settings, 'reference-runs')[columns_to_disp]"
   ]
  },
  {
   "cell_type": "markdown",
   "metadata": {},
   "source": [
    "Save the \"slow\" runs where we made &epsilon; decay at a faster rate"
   ]
  },
  {
   "cell_type": "code",
   "execution_count": 22,
   "metadata": {},
   "outputs": [],
   "source": [
    "greedy = settings.copy()\n",
    "greedy['epsilon_decay'] = 0.995"
   ]
  },
  {
   "cell_type": "code",
   "execution_count": 23,
   "metadata": {},
   "outputs": [
    {
     "data": {
      "text/html": [
       "<div>\n",
       "<style scoped>\n",
       "    .dataframe tbody tr th:only-of-type {\n",
       "        vertical-align: middle;\n",
       "    }\n",
       "\n",
       "    .dataframe tbody tr th {\n",
       "        vertical-align: top;\n",
       "    }\n",
       "\n",
       "    .dataframe thead th {\n",
       "        text-align: right;\n",
       "    }\n",
       "</style>\n",
       "<table border=\"1\" class=\"dataframe\">\n",
       "  <thead>\n",
       "    <tr style=\"text-align: right;\">\n",
       "      <th></th>\n",
       "      <th>epsilon</th>\n",
       "      <th>max_steps</th>\n",
       "      <th>episodes</th>\n",
       "      <th>episodes_completed</th>\n",
       "      <th>path</th>\n",
       "      <th>no_backtrack</th>\n",
       "      <th>gamma</th>\n",
       "      <th>reward</th>\n",
       "      <th>epsilon_decay</th>\n",
       "      <th>q_update_freq</th>\n",
       "      <th>best_found</th>\n",
       "      <th>pIC50_above_8</th>\n",
       "    </tr>\n",
       "  </thead>\n",
       "  <tbody>\n",
       "    <tr>\n",
       "      <th>4</th>\n",
       "      <td>1.0</td>\n",
       "      <td>40</td>\n",
       "      <td>5000</td>\n",
       "      <td>5000.0</td>\n",
       "      <td>../../rl_tests/2020-06-11T17.26.22.502145_MO</td>\n",
       "      <td>False</td>\n",
       "      <td>0.9</td>\n",
       "      <td>MO</td>\n",
       "      <td>0.995</td>\n",
       "      <td>10</td>\n",
       "      <td>8.336426</td>\n",
       "      <td>9.0</td>\n",
       "    </tr>\n",
       "    <tr>\n",
       "      <th>23</th>\n",
       "      <td>1.0</td>\n",
       "      <td>40</td>\n",
       "      <td>5000</td>\n",
       "      <td>5000.0</td>\n",
       "      <td>../../rl_tests/2020-06-11T17.26.22.623448_ic50</td>\n",
       "      <td>False</td>\n",
       "      <td>0.9</td>\n",
       "      <td>ic50</td>\n",
       "      <td>0.995</td>\n",
       "      <td>10</td>\n",
       "      <td>10.340915</td>\n",
       "      <td>16423.0</td>\n",
       "    </tr>\n",
       "    <tr>\n",
       "      <th>24</th>\n",
       "      <td>1.0</td>\n",
       "      <td>40</td>\n",
       "      <td>5000</td>\n",
       "      <td>5000.0</td>\n",
       "      <td>../../rl_tests/2020-06-11T17.26.22.433594_logP</td>\n",
       "      <td>False</td>\n",
       "      <td>0.9</td>\n",
       "      <td>logP</td>\n",
       "      <td>0.995</td>\n",
       "      <td>10</td>\n",
       "      <td>10.308691</td>\n",
       "      <td>1595.0</td>\n",
       "    </tr>\n",
       "  </tbody>\n",
       "</table>\n",
       "</div>"
      ],
      "text/plain": [
       "    epsilon  max_steps  episodes  episodes_completed  \\\n",
       "4       1.0         40      5000              5000.0   \n",
       "23      1.0         40      5000              5000.0   \n",
       "24      1.0         40      5000              5000.0   \n",
       "\n",
       "                                              path  no_backtrack  gamma  \\\n",
       "4     ../../rl_tests/2020-06-11T17.26.22.502145_MO         False    0.9   \n",
       "23  ../../rl_tests/2020-06-11T17.26.22.623448_ic50         False    0.9   \n",
       "24  ../../rl_tests/2020-06-11T17.26.22.433594_logP         False    0.9   \n",
       "\n",
       "   reward  epsilon_decay  q_update_freq  best_found  pIC50_above_8  \n",
       "4      MO          0.995             10    8.336426            9.0  \n",
       "23   ic50          0.995             10   10.340915        16423.0  \n",
       "24   logP          0.995             10   10.308691         1595.0  "
      ]
     },
     "execution_count": 23,
     "metadata": {},
     "output_type": "execute_result"
    }
   ],
   "source": [
    "save_records(greedy, 'greedy-runs')[columns_to_disp]"
   ]
  },
  {
   "cell_type": "markdown",
   "metadata": {},
   "source": [
    "Save the \"myopic\" calcualtions, where we set the Bellmann look-ahead to 0"
   ]
  },
  {
   "cell_type": "code",
   "execution_count": 24,
   "metadata": {},
   "outputs": [],
   "source": [
    "myopic = greedy.copy()\n",
    "myopic['gamma'] = 0."
   ]
  },
  {
   "cell_type": "code",
   "execution_count": 25,
   "metadata": {},
   "outputs": [
    {
     "data": {
      "text/html": [
       "<div>\n",
       "<style scoped>\n",
       "    .dataframe tbody tr th:only-of-type {\n",
       "        vertical-align: middle;\n",
       "    }\n",
       "\n",
       "    .dataframe tbody tr th {\n",
       "        vertical-align: top;\n",
       "    }\n",
       "\n",
       "    .dataframe thead th {\n",
       "        text-align: right;\n",
       "    }\n",
       "</style>\n",
       "<table border=\"1\" class=\"dataframe\">\n",
       "  <thead>\n",
       "    <tr style=\"text-align: right;\">\n",
       "      <th></th>\n",
       "      <th>epsilon</th>\n",
       "      <th>max_steps</th>\n",
       "      <th>episodes</th>\n",
       "      <th>episodes_completed</th>\n",
       "      <th>path</th>\n",
       "      <th>no_backtrack</th>\n",
       "      <th>gamma</th>\n",
       "      <th>reward</th>\n",
       "      <th>epsilon_decay</th>\n",
       "      <th>q_update_freq</th>\n",
       "      <th>best_found</th>\n",
       "      <th>pIC50_above_8</th>\n",
       "    </tr>\n",
       "  </thead>\n",
       "  <tbody>\n",
       "    <tr>\n",
       "      <th>27</th>\n",
       "      <td>1.0</td>\n",
       "      <td>40</td>\n",
       "      <td>5000</td>\n",
       "      <td>5000.0</td>\n",
       "      <td>../../rl_tests/MO_2020-06-12T10.50.21.518834</td>\n",
       "      <td>False</td>\n",
       "      <td>0.0</td>\n",
       "      <td>MO</td>\n",
       "      <td>0.995</td>\n",
       "      <td>10</td>\n",
       "      <td>11.246351</td>\n",
       "      <td>3764.0</td>\n",
       "    </tr>\n",
       "    <tr>\n",
       "      <th>28</th>\n",
       "      <td>1.0</td>\n",
       "      <td>40</td>\n",
       "      <td>5000</td>\n",
       "      <td>5000.0</td>\n",
       "      <td>../../rl_tests/ic50_2020-06-12T10.50.21.000992</td>\n",
       "      <td>False</td>\n",
       "      <td>0.0</td>\n",
       "      <td>ic50</td>\n",
       "      <td>0.995</td>\n",
       "      <td>10</td>\n",
       "      <td>9.734042</td>\n",
       "      <td>663.0</td>\n",
       "    </tr>\n",
       "    <tr>\n",
       "      <th>17</th>\n",
       "      <td>1.0</td>\n",
       "      <td>40</td>\n",
       "      <td>5000</td>\n",
       "      <td>5000.0</td>\n",
       "      <td>../../rl_tests/logP_2020-06-12T10.50.21.135161</td>\n",
       "      <td>False</td>\n",
       "      <td>0.0</td>\n",
       "      <td>logP</td>\n",
       "      <td>0.995</td>\n",
       "      <td>10</td>\n",
       "      <td>10.421689</td>\n",
       "      <td>1841.0</td>\n",
       "    </tr>\n",
       "  </tbody>\n",
       "</table>\n",
       "</div>"
      ],
      "text/plain": [
       "    epsilon  max_steps  episodes  episodes_completed  \\\n",
       "27      1.0         40      5000              5000.0   \n",
       "28      1.0         40      5000              5000.0   \n",
       "17      1.0         40      5000              5000.0   \n",
       "\n",
       "                                              path  no_backtrack  gamma  \\\n",
       "27    ../../rl_tests/MO_2020-06-12T10.50.21.518834         False    0.0   \n",
       "28  ../../rl_tests/ic50_2020-06-12T10.50.21.000992         False    0.0   \n",
       "17  ../../rl_tests/logP_2020-06-12T10.50.21.135161         False    0.0   \n",
       "\n",
       "   reward  epsilon_decay  q_update_freq  best_found  pIC50_above_8  \n",
       "27     MO          0.995             10   11.246351         3764.0  \n",
       "28   ic50          0.995             10    9.734042          663.0  \n",
       "17   logP          0.995             10   10.421689         1841.0  "
      ]
     },
     "execution_count": 25,
     "metadata": {},
     "output_type": "execute_result"
    }
   ],
   "source": [
    "save_records(myopic, 'myopic-runs')[columns_to_disp]"
   ]
  },
  {
   "cell_type": "code",
   "execution_count": null,
   "metadata": {},
   "outputs": [],
   "source": []
  }
 ],
 "metadata": {
  "kernelspec": {
   "display_name": "Python 3",
   "language": "python",
   "name": "python3"
  },
  "language_info": {
   "codemirror_mode": {
    "name": "ipython",
    "version": 3
   },
   "file_extension": ".py",
   "mimetype": "text/x-python",
   "name": "python",
   "nbconvert_exporter": "python",
   "pygments_lexer": "ipython3",
   "version": "3.6.10"
  }
 },
 "nbformat": 4,
 "nbformat_minor": 4
}

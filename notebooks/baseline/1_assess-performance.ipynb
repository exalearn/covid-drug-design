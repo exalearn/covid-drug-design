{
 "cells": [
  {
   "cell_type": "markdown",
   "metadata": {},
   "source": [
    "# Assess Search\n",
    "Get some statistics from brute-forcing the search, such as the expected performance of random sampling"
   ]
  },
  {
   "cell_type": "code",
   "execution_count": 1,
   "metadata": {},
   "outputs": [],
   "source": [
    "from scipy.stats import sem\n",
    "from tqdm import tqdm\n",
    "import pandas as pd\n",
    "import numpy as np\n",
    "import json"
   ]
  },
  {
   "cell_type": "markdown",
   "metadata": {},
   "source": [
    "Configuration"
   ]
  },
  {
   "cell_type": "code",
   "execution_count": 2,
   "metadata": {},
   "outputs": [],
   "source": [
    "result_file = 'E15.csv.gz'  # Where to read from\n",
    "prec = [1, 0.1, 0.01, 0.001, 0.0001]  # Which percentiles to compute\n",
    "search_size = 1000000  # How many molecules to same in random search\n",
    "n_tests = 64"
   ]
  },
  {
   "cell_type": "markdown",
   "metadata": {},
   "source": [
    "## Load in Results\n",
    "They are produced in an earlier notebook"
   ]
  },
  {
   "cell_type": "code",
   "execution_count": 3,
   "metadata": {},
   "outputs": [
    {
     "name": "stdout",
     "output_type": "stream",
     "text": [
      "Loaded 15547091 entries\n",
      "CPU times: user 27 s, sys: 1.47 s, total: 28.4 s\n",
      "Wall time: 28.4 s\n"
     ]
    }
   ],
   "source": [
    "%%time\n",
    "data = pd.read_csv(result_file)  # Remember to uncomment end later\n",
    "print(f'Loaded {len(data)} entries')"
   ]
  },
  {
   "cell_type": "markdown",
   "metadata": {},
   "source": [
    "Drop rows with missing IC50's, which occur if the molecule is not fully connected"
   ]
  },
  {
   "cell_type": "code",
   "execution_count": 4,
   "metadata": {},
   "outputs": [
    {
     "name": "stdout",
     "output_type": "stream",
     "text": [
      "Removed nulls. New size 15538418\n"
     ]
    }
   ],
   "source": [
    "data = data[~data.IC50_mpnn.isnull()]\n",
    "print(f'Removed nulls. New size {len(data)}')"
   ]
  },
  {
   "cell_type": "markdown",
   "metadata": {},
   "source": [
    "## Compute Top Percentiles\n",
    "How good are the best molecules?"
   ]
  },
  {
   "cell_type": "code",
   "execution_count": 5,
   "metadata": {},
   "outputs": [
    {
     "name": "stdout",
     "output_type": "stream",
     "text": [
      "CPU times: user 104 ms, sys: 15.5 ms, total: 120 ms\n",
      "Wall time: 119 ms\n"
     ]
    }
   ],
   "source": [
    "%%time\n",
    "values = np.percentile(data['IC50_mpnn'], prec)"
   ]
  },
  {
   "cell_type": "code",
   "execution_count": 6,
   "metadata": {},
   "outputs": [],
   "source": [
    "with open('top_ic50s.json', 'w') as fp:\n",
    "    json.dump({\n",
    "        'top_perc': prec,\n",
    "        'ic50': values.tolist(),\n",
    "        'best': data.IC50_mpnn.min()\n",
    "    }, fp, indent=2)"
   ]
  },
  {
   "cell_type": "markdown",
   "metadata": {},
   "source": [
    "## Simulate a Random Search\n",
    "Simulate a random search by drawing compounds at random"
   ]
  },
  {
   "cell_type": "code",
   "execution_count": 7,
   "metadata": {},
   "outputs": [
    {
     "name": "stderr",
     "output_type": "stream",
     "text": [
      "100%|██████████| 64/64 [01:13<00:00,  1.14s/it]\n"
     ]
    }
   ],
   "source": [
    "cummins = []\n",
    "below_zero = []\n",
    "for _ in tqdm(range(n_tests)):\n",
    "    choices = data.sample(search_size)\n",
    "    cummins.append(choices['IC50_mpnn'].cummin())\n",
    "    below_zero.append(np.cumsum(choices.IC50_mpnn < 0))"
   ]
  },
  {
   "cell_type": "code",
   "execution_count": 8,
   "metadata": {},
   "outputs": [],
   "source": [
    "cummins = np.vstack(cummins)\n",
    "below_zero = np.vstack(below_zero)"
   ]
  },
  {
   "cell_type": "markdown",
   "metadata": {},
   "source": [
    "Save the mean and standard error for the cumulative min"
   ]
  },
  {
   "cell_type": "code",
   "execution_count": 9,
   "metadata": {},
   "outputs": [
    {
     "name": "stdout",
     "output_type": "stream",
     "text": [
      "CPU times: user 844 ms, sys: 8.13 ms, total: 852 ms\n",
      "Wall time: 854 ms\n"
     ]
    }
   ],
   "source": [
    "%%time\n",
    "min_sem_val = sem(cummins, axis=0)\n",
    "min_mean = np.mean(cummins, axis=0)\n",
    "bz_sem_val = sem(below_zero, axis=0)\n",
    "bz_mean = np.mean(below_zero, axis=0)"
   ]
  },
  {
   "cell_type": "code",
   "execution_count": 10,
   "metadata": {},
   "outputs": [],
   "source": [
    "pd.DataFrame({\n",
    "    'min_mean': min_mean,\n",
    "    'min_sem': min_sem_val,\n",
    "    'n_below_zero_mean': bz_mean,\n",
    "    'n_below_zero_sem': bz_sem_val\n",
    "}).to_csv('random_search_perf.csv')"
   ]
  },
  {
   "cell_type": "code",
   "execution_count": null,
   "metadata": {},
   "outputs": [],
   "source": []
  }
 ],
 "metadata": {
  "kernelspec": {
   "display_name": "Python 3",
   "language": "python",
   "name": "python3"
  },
  "language_info": {
   "codemirror_mode": {
    "name": "ipython",
    "version": 3
   },
   "file_extension": ".py",
   "mimetype": "text/x-python",
   "name": "python",
   "nbconvert_exporter": "python",
   "pygments_lexer": "ipython3",
   "version": "3.6.10"
  }
 },
 "nbformat": 4,
 "nbformat_minor": 4
}

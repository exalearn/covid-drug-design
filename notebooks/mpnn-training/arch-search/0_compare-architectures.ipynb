{
 "cells": [
  {
   "cell_type": "markdown",
   "metadata": {},
   "source": [
    "# Compare Architectures\n",
    "See how different version of the network compare in performance"
   ]
  },
  {
   "cell_type": "code",
   "execution_count": 1,
   "metadata": {},
   "outputs": [],
   "source": [
    "from glob import glob\n",
    "import pandas as pd\n",
    "import json\n",
    "import os"
   ]
  },
  {
   "cell_type": "markdown",
   "metadata": {},
   "source": [
    "## Compile the Completed Run Summaries\n",
    "They are in directories named after the architecture"
   ]
  },
  {
   "cell_type": "code",
   "execution_count": 2,
   "metadata": {},
   "outputs": [],
   "source": [
    "runs = glob(os.path.join('results', '**', 'val_summary.json'))"
   ]
  },
  {
   "cell_type": "code",
   "execution_count": 3,
   "metadata": {},
   "outputs": [],
   "source": [
    "def summarize_run(path):\n",
    "    readout, fingerprint = os.path.basename(os.path.dirname(path)).split(\"_\")\n",
    "    with open(path) as fp:\n",
    "        output = json.load(fp)\n",
    "    output['readout'] = readout\n",
    "    output['fingerprint'] = fingerprint\n",
    "    return output\n",
    "    "
   ]
  },
  {
   "cell_type": "code",
   "execution_count": 4,
   "metadata": {},
   "outputs": [],
   "source": [
    "runs = pd.DataFrame([summarize_run(x) for x in runs])"
   ]
  },
  {
   "cell_type": "code",
   "execution_count": 5,
   "metadata": {},
   "outputs": [
    {
     "data": {
      "text/html": [
       "<div>\n",
       "<style scoped>\n",
       "    .dataframe tbody tr th:only-of-type {\n",
       "        vertical-align: middle;\n",
       "    }\n",
       "\n",
       "    .dataframe tbody tr th {\n",
       "        vertical-align: top;\n",
       "    }\n",
       "\n",
       "    .dataframe thead th {\n",
       "        text-align: right;\n",
       "    }\n",
       "</style>\n",
       "<table border=\"1\" class=\"dataframe\">\n",
       "  <thead>\n",
       "    <tr style=\"text-align: right;\">\n",
       "      <th></th>\n",
       "      <th>readout</th>\n",
       "      <th>fingerprint</th>\n",
       "      <th>mae</th>\n",
       "      <th>r2_score</th>\n",
       "    </tr>\n",
       "  </thead>\n",
       "  <tbody>\n",
       "    <tr>\n",
       "      <th>4</th>\n",
       "      <td>max</td>\n",
       "      <td>molecular</td>\n",
       "      <td>0.692784</td>\n",
       "      <td>0.710499</td>\n",
       "    </tr>\n",
       "    <tr>\n",
       "      <th>6</th>\n",
       "      <td>softmax</td>\n",
       "      <td>molecular</td>\n",
       "      <td>0.710207</td>\n",
       "      <td>0.702498</td>\n",
       "    </tr>\n",
       "    <tr>\n",
       "      <th>7</th>\n",
       "      <td>max</td>\n",
       "      <td>atomic</td>\n",
       "      <td>0.796679</td>\n",
       "      <td>0.613621</td>\n",
       "    </tr>\n",
       "    <tr>\n",
       "      <th>2</th>\n",
       "      <td>softmax</td>\n",
       "      <td>atomic</td>\n",
       "      <td>0.805858</td>\n",
       "      <td>0.612965</td>\n",
       "    </tr>\n",
       "    <tr>\n",
       "      <th>3</th>\n",
       "      <td>mean</td>\n",
       "      <td>molecular</td>\n",
       "      <td>0.809896</td>\n",
       "      <td>0.608206</td>\n",
       "    </tr>\n",
       "    <tr>\n",
       "      <th>5</th>\n",
       "      <td>attention</td>\n",
       "      <td>atomic</td>\n",
       "      <td>0.855773</td>\n",
       "      <td>0.572227</td>\n",
       "    </tr>\n",
       "    <tr>\n",
       "      <th>0</th>\n",
       "      <td>mean</td>\n",
       "      <td>atomic</td>\n",
       "      <td>0.846660</td>\n",
       "      <td>0.570131</td>\n",
       "    </tr>\n",
       "    <tr>\n",
       "      <th>8</th>\n",
       "      <td>attention</td>\n",
       "      <td>molecular</td>\n",
       "      <td>0.839002</td>\n",
       "      <td>0.555204</td>\n",
       "    </tr>\n",
       "    <tr>\n",
       "      <th>1</th>\n",
       "      <td>sum</td>\n",
       "      <td>molecular</td>\n",
       "      <td>0.902433</td>\n",
       "      <td>0.537818</td>\n",
       "    </tr>\n",
       "    <tr>\n",
       "      <th>9</th>\n",
       "      <td>sum</td>\n",
       "      <td>atomic</td>\n",
       "      <td>0.948399</td>\n",
       "      <td>0.508516</td>\n",
       "    </tr>\n",
       "  </tbody>\n",
       "</table>\n",
       "</div>"
      ],
      "text/plain": [
       "     readout fingerprint       mae  r2_score\n",
       "4        max   molecular  0.692784  0.710499\n",
       "6    softmax   molecular  0.710207  0.702498\n",
       "7        max      atomic  0.796679  0.613621\n",
       "2    softmax      atomic  0.805858  0.612965\n",
       "3       mean   molecular  0.809896  0.608206\n",
       "5  attention      atomic  0.855773  0.572227\n",
       "0       mean      atomic  0.846660  0.570131\n",
       "8  attention   molecular  0.839002  0.555204\n",
       "1        sum   molecular  0.902433  0.537818\n",
       "9        sum      atomic  0.948399  0.508516"
      ]
     },
     "execution_count": 5,
     "metadata": {},
     "output_type": "execute_result"
    }
   ],
   "source": [
    "runs.sort_values('r2_score', ascending=False)[['readout', 'fingerprint', 'mae', 'r2_score']]"
   ]
  },
  {
   "cell_type": "markdown",
   "metadata": {},
   "source": [
    "*Finding*: We get our best performance with the \"maximum\" of molecular features. Attention from atomic contributions is the upper middle\n",
    "\n",
    "Make a LaTeX table"
   ]
  },
  {
   "cell_type": "code",
   "execution_count": 6,
   "metadata": {},
   "outputs": [],
   "source": [
    "table = runs.pivot(index='readout', columns='fingerprint', values='r2_score')"
   ]
  },
  {
   "cell_type": "code",
   "execution_count": 7,
   "metadata": {},
   "outputs": [
    {
     "data": {
      "text/html": [
       "<div>\n",
       "<style scoped>\n",
       "    .dataframe tbody tr th:only-of-type {\n",
       "        vertical-align: middle;\n",
       "    }\n",
       "\n",
       "    .dataframe tbody tr th {\n",
       "        vertical-align: top;\n",
       "    }\n",
       "\n",
       "    .dataframe thead th {\n",
       "        text-align: right;\n",
       "    }\n",
       "</style>\n",
       "<table border=\"1\" class=\"dataframe\">\n",
       "  <thead>\n",
       "    <tr style=\"text-align: right;\">\n",
       "      <th>fingerprint</th>\n",
       "      <th>atomic</th>\n",
       "      <th>molecular</th>\n",
       "    </tr>\n",
       "    <tr>\n",
       "      <th>readout</th>\n",
       "      <th></th>\n",
       "      <th></th>\n",
       "    </tr>\n",
       "  </thead>\n",
       "  <tbody>\n",
       "    <tr>\n",
       "      <th>attention</th>\n",
       "      <td>0.572227</td>\n",
       "      <td>0.555204</td>\n",
       "    </tr>\n",
       "    <tr>\n",
       "      <th>max</th>\n",
       "      <td>0.613621</td>\n",
       "      <td>0.710499</td>\n",
       "    </tr>\n",
       "    <tr>\n",
       "      <th>mean</th>\n",
       "      <td>0.570131</td>\n",
       "      <td>0.608206</td>\n",
       "    </tr>\n",
       "    <tr>\n",
       "      <th>softmax</th>\n",
       "      <td>0.612965</td>\n",
       "      <td>0.702498</td>\n",
       "    </tr>\n",
       "    <tr>\n",
       "      <th>sum</th>\n",
       "      <td>0.508516</td>\n",
       "      <td>0.537818</td>\n",
       "    </tr>\n",
       "  </tbody>\n",
       "</table>\n",
       "</div>"
      ],
      "text/plain": [
       "fingerprint    atomic  molecular\n",
       "readout                         \n",
       "attention    0.572227   0.555204\n",
       "max          0.613621   0.710499\n",
       "mean         0.570131   0.608206\n",
       "softmax      0.612965   0.702498\n",
       "sum          0.508516   0.537818"
      ]
     },
     "execution_count": 7,
     "metadata": {},
     "output_type": "execute_result"
    }
   ],
   "source": [
    "table"
   ]
  },
  {
   "cell_type": "code",
   "execution_count": 8,
   "metadata": {},
   "outputs": [
    {
     "name": "stdout",
     "output_type": "stream",
     "text": [
      "\\begin{tabular}{lrr}\n",
      "\\toprule\n",
      "fingerprint &  atomic &  molecular \\\\\n",
      "readout   &         &            \\\\\n",
      "\\midrule\n",
      "attention &    0.57 &       0.56 \\\\\n",
      "max       &    0.61 &       0.71 \\\\\n",
      "mean      &    0.57 &       0.61 \\\\\n",
      "softmax   &    0.61 &       0.70 \\\\\n",
      "sum       &    0.51 &       0.54 \\\\\n",
      "\\bottomrule\n",
      "\\end{tabular}\n",
      "\n"
     ]
    }
   ],
   "source": [
    "print(table.to_latex(float_format='%.2f'))"
   ]
  },
  {
   "cell_type": "code",
   "execution_count": null,
   "metadata": {},
   "outputs": [],
   "source": []
  }
 ],
 "metadata": {
  "kernelspec": {
   "display_name": "Python 3",
   "language": "python",
   "name": "python3"
  },
  "language_info": {
   "codemirror_mode": {
    "name": "ipython",
    "version": 3
   },
   "file_extension": ".py",
   "mimetype": "text/x-python",
   "name": "python",
   "nbconvert_exporter": "python",
   "pygments_lexer": "ipython3",
   "version": "3.6.10"
  }
 },
 "nbformat": 4,
 "nbformat_minor": 4
}

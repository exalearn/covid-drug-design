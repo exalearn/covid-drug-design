{
 "cells": [
  {
   "cell_type": "markdown",
   "metadata": {},
   "source": [
    "# Convert Data to TF Records\n",
    "The data is currently expressed as SMILES strings in a CSV file. \n",
    "We need to convert them to graph representations for easier use with TF."
   ]
  },
  {
   "cell_type": "code",
   "execution_count": 1,
   "metadata": {},
   "outputs": [],
   "source": [
    "%matplotlib inline\n",
    "from matplotlib import pyplot as plt\n",
    "from sklearn.model_selection import train_test_split\n",
    "from molgym.utils.conversions import convert_smiles_to_nx\n",
    "from molgym.mpnn.data import make_type_lookup_tables, convert_nx_to_dict, make_tfrecord\n",
    "from rdkit import Chem\n",
    "import tensorflow as tf\n",
    "import pandas as pd\n",
    "import numpy as np\n",
    "import json"
   ]
  },
  {
   "cell_type": "markdown",
   "metadata": {},
   "source": [
    "## Load in the IC50 Data\n",
    "Provided by Neeraj Kumar"
   ]
  },
  {
   "cell_type": "code",
   "execution_count": 2,
   "metadata": {},
   "outputs": [],
   "source": [
    "data = pd.read_csv('protease_only_id_smiles_IC50.csv')"
   ]
  },
  {
   "cell_type": "markdown",
   "metadata": {},
   "source": [
    "## Clean the IC50 Values\n",
    "A few of our IC50 files are not floats. They are just listed as being above or below a range. For simplicity, we will assume a value of the provided threshold for each"
   ]
  },
  {
   "cell_type": "code",
   "execution_count": 3,
   "metadata": {},
   "outputs": [],
   "source": [
    "data['IC50_cleaned'] = data['IC50'].apply(lambda x: float(x.strip(' ><')))"
   ]
  },
  {
   "cell_type": "markdown",
   "metadata": {},
   "source": [
    "## Compute the pIC50\n",
    "This has a much better distribution than IC50"
   ]
  },
  {
   "cell_type": "code",
   "execution_count": 4,
   "metadata": {},
   "outputs": [],
   "source": [
    "data['pIC50'] = -1 * np.log10(data['IC50_cleaned'] * 1e-9)"
   ]
  },
  {
   "cell_type": "code",
   "execution_count": 5,
   "metadata": {},
   "outputs": [
    {
     "data": {
      "text/plain": [
       "Text(0, 0.5, 'Frequency')"
      ]
     },
     "execution_count": 5,
     "metadata": {},
     "output_type": "execute_result"
    },
    {
     "data": {
      "image/png": "[encoded data removed]",
      "text/plain": [
       "<Figure size 468x180 with 2 Axes>"
      ]
     },
     "metadata": {
      "needs_background": "light"
     },
     "output_type": "display_data"
    }
   ],
   "source": [
    "fig, axs = plt.subplots(1, 2, sharey=True, figsize=(6.5, 2.5))\n",
    "\n",
    "axs[0].hist(data['IC50_cleaned'], bins=32)\n",
    "axs[0].set_xlabel('IC50')\n",
    "axs[1].hist(data['pIC50'], bins=32)\n",
    "axs[1].set_xlabel('pIC50')\n",
    "\n",
    "axs[0].set_ylabel('Frequency')"
   ]
  },
  {
   "cell_type": "markdown",
   "metadata": {},
   "source": [
    "Given the huge range of values, we are going to use the log value as output for the model"
   ]
  },
  {
   "cell_type": "markdown",
   "metadata": {},
   "source": [
    "## Remove Duplicates\n",
    "Compute the mean of each pIC50 for all non-unique molecules to remove duplicates"
   ]
  },
  {
   "cell_type": "code",
   "execution_count": 6,
   "metadata": {},
   "outputs": [],
   "source": [
    "data.rename(columns={'InChI': 'smiles'}, inplace=True)"
   ]
  },
  {
   "cell_type": "markdown",
   "metadata": {},
   "source": [
    "Get the InChI keys as a unique identifier"
   ]
  },
  {
   "cell_type": "code",
   "execution_count": 7,
   "metadata": {},
   "outputs": [],
   "source": [
    "data['InChIKey'] = data['smiles'].apply(lambda x: Chem.MolToInchiKey(Chem.MolFromSmiles(x)))"
   ]
  },
  {
   "cell_type": "code",
   "execution_count": 8,
   "metadata": {},
   "outputs": [
    {
     "name": "stdout",
     "output_type": "stream",
     "text": [
      "Found 6545 unique molecules\n"
     ]
    }
   ],
   "source": [
    "deduped = []\n",
    "for gid, group in data.groupby('InChIKey'):\n",
    "    deduped.append({\n",
    "        'smiles': group['smiles'].iloc[0],\n",
    "        'pIC50': group['pIC50'].mean(),\n",
    "        'pIC50_std': group['pIC50'].std()\n",
    "    })\n",
    "print(f'Found {len(deduped)} unique molecules')"
   ]
  },
  {
   "cell_type": "markdown",
   "metadata": {},
   "source": [
    "Replace the dataset with the de-duped version"
   ]
  },
  {
   "cell_type": "code",
   "execution_count": 9,
   "metadata": {},
   "outputs": [],
   "source": [
    "data = pd.DataFrame(deduped)"
   ]
  },
  {
   "cell_type": "markdown",
   "metadata": {},
   "source": [
    "See what the largest variances are"
   ]
  },
  {
   "cell_type": "code",
   "execution_count": 10,
   "metadata": {},
   "outputs": [
    {
     "data": {
      "text/html": [
       "<div>\n",
       "<style scoped>\n",
       "    .dataframe tbody tr th:only-of-type {\n",
       "        vertical-align: middle;\n",
       "    }\n",
       "\n",
       "    .dataframe tbody tr th {\n",
       "        vertical-align: top;\n",
       "    }\n",
       "\n",
       "    .dataframe thead th {\n",
       "        text-align: right;\n",
       "    }\n",
       "</style>\n",
       "<table border=\"1\" class=\"dataframe\">\n",
       "  <thead>\n",
       "    <tr style=\"text-align: right;\">\n",
       "      <th></th>\n",
       "      <th>smiles</th>\n",
       "      <th>pIC50</th>\n",
       "      <th>pIC50_std</th>\n",
       "    </tr>\n",
       "  </thead>\n",
       "  <tbody>\n",
       "    <tr>\n",
       "      <th>3689</th>\n",
       "      <td>CC[C@H](C)[C@H](NC(=O)[C@@H](CC(O)C[C@@H](Cc1c...</td>\n",
       "      <td>6.460409</td>\n",
       "      <td>2.916772</td>\n",
       "    </tr>\n",
       "    <tr>\n",
       "      <th>1596</th>\n",
       "      <td>Cc1cn([C@H]2C[C@H](N=[N+]=[N-])[C@@H](CO)O2)c(...</td>\n",
       "      <td>6.261439</td>\n",
       "      <td>2.772438</td>\n",
       "    </tr>\n",
       "    <tr>\n",
       "      <th>6348</th>\n",
       "      <td>CC(C)(C)OC(=O)N[C@@H](Cc1ccccc1)[C@@H](O)C[C@@...</td>\n",
       "      <td>8.094380</td>\n",
       "      <td>2.132181</td>\n",
       "    </tr>\n",
       "    <tr>\n",
       "      <th>6432</th>\n",
       "      <td>OC1OCC=C2OC(=O)C=C12</td>\n",
       "      <td>6.920216</td>\n",
       "      <td>2.121320</td>\n",
       "    </tr>\n",
       "    <tr>\n",
       "      <th>1542</th>\n",
       "      <td>C\\C=C\\C\\C=C\\CCC(=O)[C@H]1O[C@H]1C(N)=O</td>\n",
       "      <td>4.102060</td>\n",
       "      <td>2.121320</td>\n",
       "    </tr>\n",
       "  </tbody>\n",
       "</table>\n",
       "</div>"
      ],
      "text/plain": [
       "                                                 smiles     pIC50  pIC50_std\n",
       "3689  CC[C@H](C)[C@H](NC(=O)[C@@H](CC(O)C[C@@H](Cc1c...  6.460409   2.916772\n",
       "1596  Cc1cn([C@H]2C[C@H](N=[N+]=[N-])[C@@H](CO)O2)c(...  6.261439   2.772438\n",
       "6348  CC(C)(C)OC(=O)N[C@@H](Cc1ccccc1)[C@@H](O)C[C@@...  8.094380   2.132181\n",
       "6432                               OC1OCC=C2OC(=O)C=C12  6.920216   2.121320\n",
       "1542             C\\C=C\\C\\C=C\\CCC(=O)[C@H]1O[C@H]1C(N)=O  4.102060   2.121320"
      ]
     },
     "execution_count": 10,
     "metadata": {},
     "output_type": "execute_result"
    }
   ],
   "source": [
    "data.sort_values('pIC50_std', ascending=False).head()"
   ]
  },
  {
   "cell_type": "markdown",
   "metadata": {},
   "source": [
    "They are not unreasonable. The largest deviations are still smaller than the mean value"
   ]
  },
  {
   "cell_type": "markdown",
   "metadata": {},
   "source": [
    "## Parse the SMILES strings to NX graphs\n",
    "This is our standard form for working with molecular graphs"
   ]
  },
  {
   "cell_type": "code",
   "execution_count": 11,
   "metadata": {},
   "outputs": [],
   "source": [
    "data['nx'] = data['smiles'].apply(convert_smiles_to_nx)"
   ]
  },
  {
   "cell_type": "markdown",
   "metadata": {},
   "source": [
    "## Convert the Objects to Dictionaries\n",
    "These dictionaries will mimic the structure of the TFRecords.\n",
    "We first compute a lookup table to match atom types with an integer index, \n",
    "which we will use when creating molecules"
   ]
  },
  {
   "cell_type": "code",
   "execution_count": 12,
   "metadata": {},
   "outputs": [],
   "source": [
    "atom_types, bond_types = make_type_lookup_tables(data['nx'].tolist())"
   ]
  },
  {
   "cell_type": "code",
   "execution_count": 13,
   "metadata": {},
   "outputs": [],
   "source": [
    "with open('atom_types.json', 'w') as fp:\n",
    "    json.dump(atom_types, fp)"
   ]
  },
  {
   "cell_type": "code",
   "execution_count": 14,
   "metadata": {},
   "outputs": [],
   "source": [
    "with open('bond_types.json', 'w') as fp:\n",
    "    json.dump(bond_types, fp)"
   ]
  },
  {
   "cell_type": "code",
   "execution_count": 15,
   "metadata": {},
   "outputs": [],
   "source": [
    "data['dict'] = data['nx'].apply(lambda x: convert_nx_to_dict(x, atom_types, bond_types))"
   ]
  },
  {
   "cell_type": "markdown",
   "metadata": {},
   "source": [
    "## Save as a TF Record File\n",
    "We need to add the IC50 to the record, then save it to disk"
   ]
  },
  {
   "cell_type": "code",
   "execution_count": 16,
   "metadata": {},
   "outputs": [
    {
     "name": "stdout",
     "output_type": "stream",
     "text": [
      "Split off 655 mols for testing\n"
     ]
    }
   ],
   "source": [
    "train_data, test_data = train_test_split(data, test_size=0.1, random_state=1)\n",
    "print(f'Split off {len(test_data)} mols for testing')"
   ]
  },
  {
   "cell_type": "code",
   "execution_count": 17,
   "metadata": {},
   "outputs": [
    {
     "name": "stdout",
     "output_type": "stream",
     "text": [
      "Split remaining mols into a 5301/589 split for train and validation\n"
     ]
    }
   ],
   "source": [
    "train_data, val_data = train_test_split(train_data, test_size=0.1, random_state=2)\n",
    "print(f'Split remaining mols into a {len(train_data)}/{len(val_data)} split for train and validation')"
   ]
  },
  {
   "cell_type": "code",
   "execution_count": 18,
   "metadata": {},
   "outputs": [],
   "source": [
    "for path, data in zip(['train_data.proto', 'val_data.proto', 'test_data.proto'], \n",
    "                     [train_data, val_data, test_data]):\n",
    "    with tf.io.TFRecordWriter(path) as writer:\n",
    "        for _, entry in data.iterrows():\n",
    "            record = entry['dict']\n",
    "            record['pIC50'] = entry['pIC50']\n",
    "            writer.write(make_tfrecord(record))"
   ]
  },
  {
   "cell_type": "markdown",
   "metadata": {},
   "source": [
    "## Save the Cleaned Data\n",
    "Because it could be useful to avoid doing this twice"
   ]
  },
  {
   "cell_type": "code",
   "execution_count": 19,
   "metadata": {},
   "outputs": [],
   "source": [
    "data.drop(columns=['nx', 'dict']).to_csv('cleaned_data.csv')"
   ]
  },
  {
   "cell_type": "code",
   "execution_count": null,
   "metadata": {},
   "outputs": [],
   "source": []
  }
 ],
 "metadata": {
  "kernelspec": {
   "display_name": "Python 3",
   "language": "python",
   "name": "python3"
  },
  "language_info": {
   "codemirror_mode": {
    "name": "ipython",
    "version": 3
   },
   "file_extension": ".py",
   "mimetype": "text/x-python",
   "name": "python",
   "nbconvert_exporter": "python",
   "pygments_lexer": "ipython3",
   "version": "3.6.10"
  }
 },
 "nbformat": 4,
 "nbformat_minor": 4
}

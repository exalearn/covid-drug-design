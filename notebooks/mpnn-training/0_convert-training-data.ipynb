{
 "cells": [
  {
   "cell_type": "markdown",
   "metadata": {},
   "source": [
    "# Convert Data to TF Records\n",
    "The data is currently expressed as SMILES strings in a CSV file. \n",
    "We need to convert them to graph representations for easier use with TF."
   ]
  },
  {
   "cell_type": "code",
   "execution_count": 1,
   "metadata": {},
   "outputs": [],
   "source": [
    "%matplotlib inline\n",
    "from matplotlib import pyplot as plt\n",
    "from molgym.utils.conversions import convert_smiles_to_nx\n",
    "from molgym.mpnn.data import make_type_lookup_tables, convert_nx_to_dict, make_tfrecord\n",
    "import tensorflow as tf\n",
    "import pandas as pd\n",
    "import numpy as np\n",
    "import json"
   ]
  },
  {
   "cell_type": "markdown",
   "metadata": {},
   "source": [
    "## Load in the IC50 Data\n",
    "Provided by Neeraj Kumar"
   ]
  },
  {
   "cell_type": "code",
   "execution_count": 2,
   "metadata": {},
   "outputs": [],
   "source": [
    "data = pd.read_csv('protease_only_id_smiles_IC50.csv')"
   ]
  },
  {
   "cell_type": "markdown",
   "metadata": {},
   "source": [
    "## Parse the SMILES strings to NX graphs\n",
    "This is our standard form for working with molecular graphs"
   ]
  },
  {
   "cell_type": "code",
   "execution_count": 3,
   "metadata": {},
   "outputs": [],
   "source": [
    "data['nx'] = data['InChI'].apply(convert_smiles_to_nx)"
   ]
  },
  {
   "cell_type": "markdown",
   "metadata": {},
   "source": [
    "## Convert the Objects to Dictionaries\n",
    "These dictionaries will mimic the structure of the TFRecords.\n",
    "We first compute a lookup table to match atom types with an integer index, \n",
    "which we will use when creating molecules"
   ]
  },
  {
   "cell_type": "code",
   "execution_count": 4,
   "metadata": {},
   "outputs": [],
   "source": [
    "atom_types, bond_types = make_type_lookup_tables(data['nx'].tolist())"
   ]
  },
  {
   "cell_type": "code",
   "execution_count": 5,
   "metadata": {},
   "outputs": [],
   "source": [
    "with open('atom_types.json', 'w') as fp:\n",
    "    json.dump(atom_types, fp)"
   ]
  },
  {
   "cell_type": "code",
   "execution_count": 6,
   "metadata": {},
   "outputs": [],
   "source": [
    "with open('bond_types.json', 'w') as fp:\n",
    "    json.dump(bond_types, fp)"
   ]
  },
  {
   "cell_type": "code",
   "execution_count": 7,
   "metadata": {},
   "outputs": [],
   "source": [
    "data['dict'] = data['nx'].apply(lambda x: convert_nx_to_dict(x, atom_types, bond_types))"
   ]
  },
  {
   "cell_type": "markdown",
   "metadata": {},
   "source": [
    "## Clean the IC50 Values\n",
    "A few of our IC50 files are not floats. They are just listed as being above or below a range. For simplicity, we will assume a value of the provided threshold for each"
   ]
  },
  {
   "cell_type": "code",
   "execution_count": 8,
   "metadata": {},
   "outputs": [],
   "source": [
    "data['IC50_cleaned'] = data['IC50'].apply(lambda x: float(x.strip(' ><')))"
   ]
  },
  {
   "cell_type": "code",
   "execution_count": 9,
   "metadata": {},
   "outputs": [
    {
     "data": {
      "text/plain": [
       "Text(0, 0.5, 'Frequency')"
      ]
     },
     "execution_count": 9,
     "metadata": {},
     "output_type": "execute_result"
    },
    {
     "data": {
      "image/png": "[encoded data removed]",
      "text/plain": [
       "<Figure size 468x180 with 2 Axes>"
      ]
     },
     "metadata": {
      "needs_background": "light"
     },
     "output_type": "display_data"
    }
   ],
   "source": [
    "fig, axs = plt.subplots(1, 2, sharey=True, figsize=(6.5, 2.5))\n",
    "\n",
    "axs[0].hist(data['IC50_cleaned'], bins=32)\n",
    "axs[0].set_xlabel('IC50')\n",
    "axs[1].hist(np.log(data['IC50_cleaned']), bins=32)\n",
    "axs[1].set_xlabel('Log(IC50)')\n",
    "\n",
    "axs[0].set_ylabel('Frequency')"
   ]
  },
  {
   "cell_type": "markdown",
   "metadata": {},
   "source": [
    "Given the huge range of values, we are going to use the log value as output for the model"
   ]
  },
  {
   "cell_type": "markdown",
   "metadata": {},
   "source": [
    "## Save as a TF Record File\n",
    "We need to add the IC50 to the record, then save it to disk"
   ]
  },
  {
   "cell_type": "code",
   "execution_count": 10,
   "metadata": {},
   "outputs": [],
   "source": [
    "with tf.io.TFRecordWriter('ic50_dataset.proto') as writer:\n",
    "    for _, entry in data.iterrows():\n",
    "        record = entry['dict']\n",
    "        record['ic50'] = np.log(entry['IC50_cleaned'])\n",
    "        writer.write(make_tfrecord(record))"
   ]
  },
  {
   "cell_type": "code",
   "execution_count": null,
   "metadata": {},
   "outputs": [],
   "source": []
  }
 ],
 "metadata": {
  "kernelspec": {
   "display_name": "Python 3",
   "language": "python",
   "name": "python3"
  },
  "language_info": {
   "codemirror_mode": {
    "name": "ipython",
    "version": 3
   },
   "file_extension": ".py",
   "mimetype": "text/x-python",
   "name": "python",
   "nbconvert_exporter": "python",
   "pygments_lexer": "ipython3",
   "version": "3.6.10"
  }
 },
 "nbformat": 4,
 "nbformat_minor": 4
}

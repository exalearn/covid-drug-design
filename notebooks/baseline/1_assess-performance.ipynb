{
 "cells": [
  {
   "cell_type": "markdown",
   "metadata": {},
   "source": [
    "# Assess Search\n",
    "Get some statistics from brute-forcing the search, such as the expected performance of random sampling"
   ]
  },
  {
   "cell_type": "code",
   "execution_count": 1,
   "metadata": {},
   "outputs": [],
   "source": [
    "from scipy.stats import sem\n",
    "from tqdm import tqdm\n",
    "import pandas as pd\n",
    "import numpy as np\n",
    "import json"
   ]
  },
  {
   "cell_type": "markdown",
   "metadata": {},
   "source": [
    "Configuration"
   ]
  },
  {
   "cell_type": "code",
   "execution_count": 2,
   "metadata": {},
   "outputs": [],
   "source": [
    "result_file = 'E15.csv.gz'  # Where to read from\n",
    "prec = [1, 0.1, 0.01, 0.001, 0.0001]  # Which percentiles to compute\n",
    "search_size = 1000000  # How many molecules to same in random search\n",
    "n_tests = 64"
   ]
  },
  {
   "cell_type": "markdown",
   "metadata": {},
   "source": [
    "## Load in Results\n",
    "They are produced in an earlier notebook"
   ]
  },
  {
   "cell_type": "code",
   "execution_count": 3,
   "metadata": {},
   "outputs": [
    {
     "name": "stdout",
     "output_type": "stream",
     "text": [
      "Loaded 15547091 entries\n",
      "CPU times: user 26.8 s, sys: 1.48 s, total: 28.3 s\n",
      "Wall time: 28.4 s\n"
     ]
    }
   ],
   "source": [
    "%%time\n",
    "data = pd.read_csv(result_file)  # Remember to uncomment end later\n",
    "print(f'Loaded {len(data)} entries')"
   ]
  },
  {
   "cell_type": "markdown",
   "metadata": {},
   "source": [
    "Drop rows with missing IC50's, which occur if the molecule is not fully connected"
   ]
  },
  {
   "cell_type": "code",
   "execution_count": 4,
   "metadata": {},
   "outputs": [
    {
     "name": "stdout",
     "output_type": "stream",
     "text": [
      "Removed nulls. New size 15538418\n"
     ]
    }
   ],
   "source": [
    "data = data[~data.IC50_mpnn.isnull()]\n",
    "print(f'Removed nulls. New size {len(data)}')"
   ]
  },
  {
   "cell_type": "markdown",
   "metadata": {},
   "source": [
    "## Compute Top Percentiles\n",
    "How good are the best molecules?"
   ]
  },
  {
   "cell_type": "code",
   "execution_count": 5,
   "metadata": {},
   "outputs": [],
   "source": [
    "for r in ['IC50_mpnn', 'logP']:\n",
    "    values = np.percentile(data[r], prec)\n",
    "\n",
    "    with open(f'top_{r}.json', 'w') as fp:\n",
    "        json.dump({\n",
    "            'top_perc': prec,\n",
    "            r: values.tolist(),\n",
    "            'best': data[r].min()\n",
    "        }, fp, indent=2)"
   ]
  },
  {
   "cell_type": "markdown",
   "metadata": {},
   "source": [
    "## Simulate a Random Search\n",
    "Simulate a random search by drawing compounds at random"
   ]
  },
  {
   "cell_type": "code",
   "execution_count": 6,
   "metadata": {},
   "outputs": [],
   "source": [
    "def simulate_random_search(reward: str, n_tests: int, threshold: float):\n",
    "    # Run the tests\n",
    "    cummins = []\n",
    "    below_thresh = []\n",
    "    for _ in tqdm(range(n_tests)):\n",
    "        choices = data.sample(search_size)\n",
    "        cummins.append(choices[reward].cummin())\n",
    "        below_thresh.append(np.cumsum(choices[reward] < threshold))\n",
    "    cummins = np.vstack(cummins)\n",
    "    below_thresh = np.vstack(below_thresh)\n",
    "\n",
    "    # Save the mean and standard error for the cumulative min\n",
    "    min_sem_val = sem(cummins, axis=0)\n",
    "    min_mean = np.mean(cummins, axis=0)\n",
    "    bz_sem_val = sem(below_thresh, axis=0)\n",
    "    bz_mean = np.mean(below_thresh, axis=0)\n",
    "\n",
    "    # WRite out the data file\n",
    "    pd.DataFrame({\n",
    "        'min_mean': min_mean,\n",
    "        'min_sem': min_sem_val,\n",
    "        'n_below_thresh_mean': bz_mean,\n",
    "        'n_below_thresh_sem': bz_sem_val\n",
    "    }).to_csv(f'random_search_perf_{reward}.csv')"
   ]
  },
  {
   "cell_type": "code",
   "execution_count": 7,
   "metadata": {},
   "outputs": [
    {
     "name": "stderr",
     "output_type": "stream",
     "text": [
      "100%|██████████| 64/64 [01:15<00:00,  1.18s/it]\n",
      "100%|██████████| 64/64 [01:15<00:00,  1.18s/it]\n"
     ]
    }
   ],
   "source": [
    "for r, t in zip(['IC50_mpnn', 'logP'], [0, 5]):\n",
    "    simulate_random_search(r, n_tests=n_tests, threshold=t)"
   ]
  }
 ],
 "metadata": {
  "kernelspec": {
   "display_name": "Python 3",
   "language": "python",
   "name": "python3"
  },
  "language_info": {
   "codemirror_mode": {
    "name": "ipython",
    "version": 3
   },
   "file_extension": ".py",
   "mimetype": "text/x-python",
   "name": "python",
   "nbconvert_exporter": "python",
   "pygments_lexer": "ipython3",
   "version": "3.6.10"
  }
 },
 "nbformat": 4,
 "nbformat_minor": 4
}

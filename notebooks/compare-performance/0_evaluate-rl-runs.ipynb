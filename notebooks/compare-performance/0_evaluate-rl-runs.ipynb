{
 "cells": [
  {
   "cell_type": "markdown",
   "metadata": {},
   "source": [
    "# Collect RL Results\n",
    "Summarize the different RL runs we have completed and assess the best ones"
   ]
  },
  {
   "cell_type": "code",
   "execution_count": 1,
   "metadata": {},
   "outputs": [],
   "source": [
    "%matplotlib inline\n",
    "from matplotlib import pyplot as plt\n",
    "from datetime import datetime\n",
    "from glob import glob\n",
    "import pandas as pd\n",
    "import numpy as np\n",
    "import json\n",
    "import os"
   ]
  },
  {
   "cell_type": "markdown",
   "metadata": {},
   "source": [
    "## Find RL Runs\n",
    "They are in the root directory of this project"
   ]
  },
  {
   "cell_type": "code",
   "execution_count": 2,
   "metadata": {},
   "outputs": [
    {
     "name": "stdout",
     "output_type": "stream",
     "text": [
      "Found 28 run directories\n"
     ]
    }
   ],
   "source": [
    "dirs = list(filter(os.path.isdir, glob(os.path.join('..', '..', 'rl_tests', '*'))))\n",
    "print(f'Found {len(dirs)} run directories')"
   ]
  },
  {
   "cell_type": "markdown",
   "metadata": {},
   "source": [
    "## Create Utility Functions\n",
    "Functions for reading in results from a run and putting them in a summary that is easy to sort through"
   ]
  },
  {
   "cell_type": "code",
   "execution_count": 3,
   "metadata": {},
   "outputs": [],
   "source": [
    "def summarize_run(path: str) -> dict:\n",
    "    \"\"\"Summarize the performance of a certain run\n",
    "    \n",
    "    Args:\n",
    "        path (str): Path to the ML run\n",
    "    Returns:\n",
    "        (dict) Run summary\n",
    "    \"\"\"\n",
    "    \n",
    "    # First, load in the configuratoin\n",
    "    with open(os.path.join(path, 'config.json')) as fp:\n",
    "        output = json.load(fp)\n",
    "    output['path'] = path\n",
    "        \n",
    "    # Load in the name of the system and some other performance details\n",
    "    perf_path = os.path.join(path, 'performance.json')\n",
    "    if os.path.isfile(perf_path):\n",
    "        with open(perf_path) as fp:\n",
    "            perf = json.load(fp)\n",
    "            for k in ['hostname', 'runtime']:\n",
    "                output[k] = perf[k]\n",
    "        output['complete'] = True\n",
    "    else:\n",
    "        output['complete'] = False\n",
    "            \n",
    "    # Assess the run data\n",
    "    try:\n",
    "        mols = pd.read_csv(os.path.join(path, 'molecules.csv'))\n",
    "    except:\n",
    "        return output\n",
    "    if not output['maximize']:\n",
    "        mols['reward'] = -1 * mols['reward']\n",
    "    output['episodes_completed'] = mols['episode'].max() + 1\n",
    "    output['rewards_computed'] = len(mols)\n",
    "    output['unique_molecules'] = len(set(mols['smiles']))\n",
    "    output['unique_fraction'] = output['unique_molecules'] / len(mols)\n",
    "    output['best_found'] = mols['ic50'].max()\n",
    "    output['pIC50_above_8'] = len(set(mols[mols['ic50'] > 8]['smiles']))\n",
    "        \n",
    "    return output"
   ]
  },
  {
   "cell_type": "code",
   "execution_count": 4,
   "metadata": {},
   "outputs": [],
   "source": [
    "results = pd.DataFrame(summarize_run(x) for x in dirs)"
   ]
  },
  {
   "cell_type": "code",
   "execution_count": 24,
   "metadata": {},
   "outputs": [
    {
     "data": {
      "text/html": [
       "<div>\n",
       "<style scoped>\n",
       "    .dataframe tbody tr th:only-of-type {\n",
       "        vertical-align: middle;\n",
       "    }\n",
       "\n",
       "    .dataframe tbody tr th {\n",
       "        vertical-align: top;\n",
       "    }\n",
       "\n",
       "    .dataframe thead th {\n",
       "        text-align: right;\n",
       "    }\n",
       "</style>\n",
       "<table border=\"1\" class=\"dataframe\">\n",
       "  <thead>\n",
       "    <tr style=\"text-align: right;\">\n",
       "      <th></th>\n",
       "      <th>epsilon</th>\n",
       "      <th>max_steps</th>\n",
       "      <th>episodes</th>\n",
       "      <th>episodes_completed</th>\n",
       "      <th>no_backtrack</th>\n",
       "      <th>gamma</th>\n",
       "      <th>reward</th>\n",
       "      <th>epsilon_decay</th>\n",
       "      <th>q_update_freq</th>\n",
       "      <th>best_found</th>\n",
       "      <th>pIC50_above_8</th>\n",
       "    </tr>\n",
       "  </thead>\n",
       "  <tbody>\n",
       "    <tr>\n",
       "      <th>17</th>\n",
       "      <td>1.0</td>\n",
       "      <td>80</td>\n",
       "      <td>5000</td>\n",
       "      <td>2112.0</td>\n",
       "      <td>False</td>\n",
       "      <td>0.9</td>\n",
       "      <td>ic50</td>\n",
       "      <td>0.995</td>\n",
       "      <td>10</td>\n",
       "      <td>10.985413</td>\n",
       "      <td>26870.0</td>\n",
       "    </tr>\n",
       "    <tr>\n",
       "      <th>18</th>\n",
       "      <td>1.0</td>\n",
       "      <td>40</td>\n",
       "      <td>5000</td>\n",
       "      <td>5000.0</td>\n",
       "      <td>False</td>\n",
       "      <td>0.9</td>\n",
       "      <td>ic50</td>\n",
       "      <td>0.995</td>\n",
       "      <td>10</td>\n",
       "      <td>10.340915</td>\n",
       "      <td>16423.0</td>\n",
       "    </tr>\n",
       "    <tr>\n",
       "      <th>9</th>\n",
       "      <td>1.0</td>\n",
       "      <td>80</td>\n",
       "      <td>5000</td>\n",
       "      <td>534.0</td>\n",
       "      <td>False</td>\n",
       "      <td>0.9</td>\n",
       "      <td>ic50</td>\n",
       "      <td>0.995</td>\n",
       "      <td>10</td>\n",
       "      <td>9.879793</td>\n",
       "      <td>1541.0</td>\n",
       "    </tr>\n",
       "    <tr>\n",
       "      <th>25</th>\n",
       "      <td>1.0</td>\n",
       "      <td>40</td>\n",
       "      <td>5000</td>\n",
       "      <td>4737.0</td>\n",
       "      <td>False</td>\n",
       "      <td>0.0</td>\n",
       "      <td>ic50</td>\n",
       "      <td>0.995</td>\n",
       "      <td>10</td>\n",
       "      <td>9.734042</td>\n",
       "      <td>623.0</td>\n",
       "    </tr>\n",
       "    <tr>\n",
       "      <th>12</th>\n",
       "      <td>1.0</td>\n",
       "      <td>40</td>\n",
       "      <td>5000</td>\n",
       "      <td>138.0</td>\n",
       "      <td>False</td>\n",
       "      <td>0.0</td>\n",
       "      <td>ic50</td>\n",
       "      <td>0.995</td>\n",
       "      <td>10</td>\n",
       "      <td>8.889786</td>\n",
       "      <td>9.0</td>\n",
       "    </tr>\n",
       "    <tr>\n",
       "      <th>4</th>\n",
       "      <td>1.0</td>\n",
       "      <td>40</td>\n",
       "      <td>5</td>\n",
       "      <td>5.0</td>\n",
       "      <td>False</td>\n",
       "      <td>0.9</td>\n",
       "      <td>ic50</td>\n",
       "      <td>0.995</td>\n",
       "      <td>10</td>\n",
       "      <td>7.026790</td>\n",
       "      <td>0.0</td>\n",
       "    </tr>\n",
       "  </tbody>\n",
       "</table>\n",
       "</div>"
      ],
      "text/plain": [
       "    epsilon  max_steps  episodes  episodes_completed  no_backtrack  gamma  \\\n",
       "17      1.0         80      5000              2112.0         False    0.9   \n",
       "18      1.0         40      5000              5000.0         False    0.9   \n",
       "9       1.0         80      5000               534.0         False    0.9   \n",
       "25      1.0         40      5000              4737.0         False    0.0   \n",
       "12      1.0         40      5000               138.0         False    0.0   \n",
       "4       1.0         40         5                 5.0         False    0.9   \n",
       "\n",
       "   reward  epsilon_decay  q_update_freq  best_found  pIC50_above_8  \n",
       "17   ic50          0.995             10   10.985413        26870.0  \n",
       "18   ic50          0.995             10   10.340915        16423.0  \n",
       "9    ic50          0.995             10    9.879793         1541.0  \n",
       "25   ic50          0.995             10    9.734042          623.0  \n",
       "12   ic50          0.995             10    8.889786            9.0  \n",
       "4    ic50          0.995             10    7.026790            0.0  "
      ]
     },
     "execution_count": 24,
     "metadata": {},
     "output_type": "execute_result"
    }
   ],
   "source": [
    "columns_to_disp = ['epsilon', 'max_steps', 'episodes', 'episodes_completed', \n",
    "                   'no_backtrack', 'gamma', 'reward', 'epsilon_decay', 'q_update_freq', 'best_found', 'pIC50_above_8']\n",
    "results.query('reward==\"ic50\"').sort_values('best_found', ascending=False).head(6)[columns_to_disp]"
   ]
  },
  {
   "cell_type": "code",
   "execution_count": 6,
   "metadata": {},
   "outputs": [],
   "source": [
    "results.to_json('runs.json')"
   ]
  },
  {
   "cell_type": "markdown",
   "metadata": {},
   "source": [
    "## Compare the Performance for the \"Best One\"\n",
    "Get the run that finds the best molecule and compare it to brute force searching"
   ]
  },
  {
   "cell_type": "markdown",
   "metadata": {},
   "source": [
    "Load in the random search data"
   ]
  },
  {
   "cell_type": "code",
   "execution_count": 7,
   "metadata": {},
   "outputs": [],
   "source": [
    "random_search = pd.read_csv(os.path.join('..', 'baseline', 'random_search_perf_pIC50_mpnn.csv'))"
   ]
  },
  {
   "cell_type": "markdown",
   "metadata": {},
   "source": [
    "Load in the best values"
   ]
  },
  {
   "cell_type": "code",
   "execution_count": 8,
   "metadata": {},
   "outputs": [],
   "source": [
    "with open(os.path.join('..', 'baseline', 'top_pIC50_mpnn.json')) as fp:\n",
    "    best_e15 = json.load(fp)"
   ]
  },
  {
   "cell_type": "markdown",
   "metadata": {},
   "source": [
    "Find the best run"
   ]
  },
  {
   "cell_type": "code",
   "execution_count": 9,
   "metadata": {},
   "outputs": [
    {
     "data": {
      "text/html": [
       "<div>\n",
       "<style scoped>\n",
       "    .dataframe tbody tr th:only-of-type {\n",
       "        vertical-align: middle;\n",
       "    }\n",
       "\n",
       "    .dataframe tbody tr th {\n",
       "        vertical-align: top;\n",
       "    }\n",
       "\n",
       "    .dataframe thead th {\n",
       "        text-align: right;\n",
       "    }\n",
       "</style>\n",
       "<table border=\"1\" class=\"dataframe\">\n",
       "  <thead>\n",
       "    <tr style=\"text-align: right;\">\n",
       "      <th></th>\n",
       "      <th>epsilon</th>\n",
       "      <th>epsilon_decay</th>\n",
       "      <th>max_steps</th>\n",
       "      <th>episodes</th>\n",
       "      <th>q_update_freq</th>\n",
       "      <th>reward</th>\n",
       "      <th>hidden_layers</th>\n",
       "      <th>gamma</th>\n",
       "      <th>fingerprint_size</th>\n",
       "      <th>batch_size</th>\n",
       "      <th>...</th>\n",
       "      <th>path</th>\n",
       "      <th>complete</th>\n",
       "      <th>episodes_completed</th>\n",
       "      <th>rewards_computed</th>\n",
       "      <th>unique_molecules</th>\n",
       "      <th>unique_fraction</th>\n",
       "      <th>best_found</th>\n",
       "      <th>pIC50_above_8</th>\n",
       "      <th>hostname</th>\n",
       "      <th>runtime</th>\n",
       "    </tr>\n",
       "  </thead>\n",
       "  <tbody>\n",
       "    <tr>\n",
       "      <th>11</th>\n",
       "      <td>1.0</td>\n",
       "      <td>0.9995</td>\n",
       "      <td>40</td>\n",
       "      <td>5000</td>\n",
       "      <td>10</td>\n",
       "      <td>MO</td>\n",
       "      <td>[1024, 512, 128, 32]</td>\n",
       "      <td>0.9</td>\n",
       "      <td>2048</td>\n",
       "      <td>32</td>\n",
       "      <td>...</td>\n",
       "      <td>../../rl_tests/2020-06-11T17.29.05.994330_MO</td>\n",
       "      <td>True</td>\n",
       "      <td>5000.0</td>\n",
       "      <td>182448.0</td>\n",
       "      <td>66605.0</td>\n",
       "      <td>0.365063</td>\n",
       "      <td>10.827705</td>\n",
       "      <td>15932.0</td>\n",
       "      <td>venti</td>\n",
       "      <td>51478.860081</td>\n",
       "    </tr>\n",
       "  </tbody>\n",
       "</table>\n",
       "<p>1 rows × 23 columns</p>\n",
       "</div>"
      ],
      "text/plain": [
       "    epsilon  epsilon_decay  max_steps  episodes  q_update_freq reward  \\\n",
       "11      1.0         0.9995         40      5000             10     MO   \n",
       "\n",
       "           hidden_layers  gamma  fingerprint_size  batch_size  ...  \\\n",
       "11  [1024, 512, 128, 32]    0.9              2048          32  ...   \n",
       "\n",
       "                                            path complete  episodes_completed  \\\n",
       "11  ../../rl_tests/2020-06-11T17.29.05.994330_MO     True              5000.0   \n",
       "\n",
       "   rewards_computed  unique_molecules  unique_fraction  best_found  \\\n",
       "11         182448.0           66605.0         0.365063   10.827705   \n",
       "\n",
       "    pIC50_above_8  hostname       runtime  \n",
       "11        15932.0     venti  51478.860081  \n",
       "\n",
       "[1 rows x 23 columns]"
      ]
     },
     "execution_count": 9,
     "metadata": {},
     "output_type": "execute_result"
    }
   ],
   "source": [
    "results.query('reward==\"MO\"').sort_values('pIC50_above_8', ascending=False).head(1)"
   ]
  },
  {
   "cell_type": "code",
   "execution_count": 10,
   "metadata": {},
   "outputs": [
    {
     "name": "stdout",
     "output_type": "stream",
     "text": [
      "Chose ../../rl_tests/2020-06-11T18.21.14.076564_ic50\n"
     ]
    }
   ],
   "source": [
    "best_run = results.query('reward==\"ic50\"').sort_values('best_found', ascending=False).iloc[0]['path']\n",
    "print(f'Chose {best_run}')"
   ]
  },
  {
   "cell_type": "code",
   "execution_count": 11,
   "metadata": {},
   "outputs": [
    {
     "data": {
      "text/plain": [
       "'../../rl_tests/2020-06-11T18.21.14.076564_ic50'"
      ]
     },
     "execution_count": 11,
     "metadata": {},
     "output_type": "execute_result"
    }
   ],
   "source": [
    "best_run"
   ]
  },
  {
   "cell_type": "markdown",
   "metadata": {},
   "source": [
    "Load in the trajectory for that run"
   ]
  },
  {
   "cell_type": "code",
   "execution_count": 12,
   "metadata": {},
   "outputs": [],
   "source": [
    "mols = pd.read_csv(os.path.join(best_run, 'molecules.csv'))"
   ]
  },
  {
   "cell_type": "code",
   "execution_count": 13,
   "metadata": {},
   "outputs": [
    {
     "data": {
      "text/plain": [
       "Text(0, 0.5, 'Best pIC50')"
      ]
     },
     "execution_count": 13,
     "metadata": {},
     "output_type": "execute_result"
    },
    {
     "data": {
      "image/png": "[encoded data removed]",
      "text/plain": [
       "<Figure size 252x180 with 1 Axes>"
      ]
     },
     "metadata": {
      "needs_background": "light"
     },
     "output_type": "display_data"
    }
   ],
   "source": [
    "fig, ax = plt.subplots(figsize=(3.5, 2.5))\n",
    "\n",
    "ax.plot(mols['reward'].cummax(), label='RL')\n",
    "ax.plot(random_search['best_mean'], label='E15', color='gray')\n",
    "ax.fill_between(range(len(random_search)), \n",
    "                random_search['best_mean'] + random_search['best_sem'], \n",
    "                random_search['best_mean'] - random_search['best_sem'],\n",
    "                alpha=0.5, color='gray')\n",
    "\n",
    "ax.set_xlim(0, len(mols))\n",
    "ax.set_ylim(4, 16)\n",
    "\n",
    "ax.plot(ax.get_xlim(), [best_e15['best']]*2, 'k--')\n",
    "ax.text(100, best_e15['best'] - 0.5, 'Best in E15', ha='left', va='top')\n",
    "\n",
    "ax.legend()\n",
    "\n",
    "ax.set_xlabel('# Tested')\n",
    "ax.set_ylabel('Best pIC50')"
   ]
  },
  {
   "cell_type": "markdown",
   "metadata": {},
   "source": [
    "Plot the number with pIC50>8 found"
   ]
  },
  {
   "cell_type": "code",
   "execution_count": 14,
   "metadata": {},
   "outputs": [],
   "source": [
    "mols['unique'] = False\n",
    "mols.loc[mols.drop_duplicates('smiles', keep='first').index, 'unique'] = True"
   ]
  },
  {
   "cell_type": "code",
   "execution_count": 15,
   "metadata": {},
   "outputs": [
    {
     "data": {
      "text/plain": [
       "False    102301\n",
       "True      62801\n",
       "Name: unique, dtype: int64"
      ]
     },
     "execution_count": 15,
     "metadata": {},
     "output_type": "execute_result"
    }
   ],
   "source": [
    "mols['unique'].value_counts()"
   ]
  },
  {
   "cell_type": "code",
   "execution_count": 16,
   "metadata": {},
   "outputs": [
    {
     "data": {
      "text/plain": [
       "Text(0, 0.5, 'Unique Mols with pIC50 > 8')"
      ]
     },
     "execution_count": 16,
     "metadata": {},
     "output_type": "execute_result"
    },
    {
     "data": {
      "image/png": "[encoded data removed]",
      "text/plain": [
       "<Figure size 252x180 with 1 Axes>"
      ]
     },
     "metadata": {
      "needs_background": "light"
     },
     "output_type": "display_data"
    }
   ],
   "source": [
    "fig, ax = plt.subplots(figsize=(3.5, 2.5))\n",
    "\n",
    "ax.plot(np.logical_and(mols['ic50'] > 8, mols['unique']).cumsum(), label='RL')\n",
    "ax.plot(random_search['past_thresh_mean'], label='E15', color='gray')\n",
    "ax.fill_between(range(len(random_search)), \n",
    "                random_search['past_thresh_mean'] + random_search['past_thresh_sem'], \n",
    "                random_search['past_thresh_mean'] - random_search['past_thresh_sem'],\n",
    "                alpha=0.5, color='gray')\n",
    "\n",
    "ax.set_xlim(0, len(mols))\n",
    "ax.set_ylim(0, 30000)\n",
    "\n",
    "ax.legend()\n",
    "\n",
    "ax.set_xlabel('Mols Evaluated')\n",
    "ax.set_ylabel('Unique Mols with pIC50 > 8')"
   ]
  },
  {
   "cell_type": "markdown",
   "metadata": {},
   "source": [
    "Plot the Pareto Surface"
   ]
  },
  {
   "cell_type": "code",
   "execution_count": 17,
   "metadata": {},
   "outputs": [
    {
     "data": {
      "text/plain": [
       "Index(['episode', 'step', 'epsilon', 'smiles', 'reward', 'q', 'random', 'loss',\n",
       "       'logP', 'ic50', 'QED', 'SA', 'cycles', 'unique'],\n",
       "      dtype='object')"
      ]
     },
     "execution_count": 17,
     "metadata": {},
     "output_type": "execute_result"
    }
   ],
   "source": [
    "mols.columns"
   ]
  },
  {
   "cell_type": "code",
   "execution_count": 18,
   "metadata": {},
   "outputs": [
    {
     "data": {
      "text/plain": [
       "(8.0, 11.0)"
      ]
     },
     "execution_count": 18,
     "metadata": {},
     "output_type": "execute_result"
    },
    {
     "data": {
      "image/png": "[encoded data removed]",
      "text/plain": [
       "<Figure size 252x180 with 1 Axes>"
      ]
     },
     "metadata": {
      "needs_background": "light"
     },
     "output_type": "display_data"
    }
   ],
   "source": [
    "fig, ax = plt.subplots(figsize=(3.5, 2.5))\n",
    "\n",
    "ax.scatter(mols['ic50'], -mols['SA'], alpha=0.2, s=0.5, edgecolor='none')\n",
    "\n",
    "ax.set_ylabel('QED')\n",
    "ax.set_xlabel('pIC50')\n",
    "ax.set_xlim(8, 11)"
   ]
  },
  {
   "cell_type": "markdown",
   "metadata": {},
   "source": [
    "*Finding*: There are generally clustered in the \"low QED\" but \"high pIC50\" region"
   ]
  },
  {
   "cell_type": "markdown",
   "metadata": {},
   "source": [
    "## Get the Runs for the Paper\n",
    "Get all of the runs with the same settings"
   ]
  },
  {
   "cell_type": "markdown",
   "metadata": {},
   "source": [
    "The \"paper standard\" settings"
   ]
  },
  {
   "cell_type": "code",
   "execution_count": 19,
   "metadata": {},
   "outputs": [],
   "source": [
    "settings = {\n",
    "    \"epsilon\": 1.0,\n",
    "    \"epsilon_decay\": 0.995,\n",
    "    \"max_steps\": 40,\n",
    "    \"episodes\": 5000,\n",
    "    \"q_update_freq\": 10,\n",
    "    \"hidden_layers\": [1024, 512, 128, 32],\n",
    "    \"gamma\": 0.9,\n",
    "    \"fingerprint_size\": 2048,\n",
    "    \"batch_size\": 32,\n",
    "    \"no_backtrack\": False\n",
    "}"
   ]
  },
  {
   "cell_type": "markdown",
   "metadata": {},
   "source": [
    "Filter down to the runs we want"
   ]
  },
  {
   "cell_type": "code",
   "execution_count": 20,
   "metadata": {},
   "outputs": [],
   "source": [
    "prod_runs = results.copy()\n",
    "for crit, value in settings.items():\n",
    "    prod_runs = prod_runs[~prod_runs[crit].isnull()]\n",
    "    prod_runs = prod_runs[prod_runs[crit].apply(json.dumps) == json.dumps(value)]"
   ]
  },
  {
   "cell_type": "markdown",
   "metadata": {},
   "source": [
    "Get one run per reward function"
   ]
  },
  {
   "cell_type": "code",
   "execution_count": 21,
   "metadata": {},
   "outputs": [],
   "source": [
    "prod_runs.sort_values('episodes_completed', ascending=False, inplace=True)\n",
    "prod_runs.drop_duplicates('reward', inplace=True)"
   ]
  },
  {
   "cell_type": "markdown",
   "metadata": {},
   "source": [
    "Make a symbolic link to each directory"
   ]
  },
  {
   "cell_type": "code",
   "execution_count": 22,
   "metadata": {},
   "outputs": [],
   "source": [
    "ref_dir = 'reference-runs'\n",
    "os.makedirs(ref_dir, exist_ok=True)"
   ]
  },
  {
   "cell_type": "code",
   "execution_count": 23,
   "metadata": {},
   "outputs": [
    {
     "name": "stdout",
     "output_type": "stream",
     "text": [
      "Warning: logP is not done\n",
      "Warning: QED is not done\n"
     ]
    }
   ],
   "source": [
    "for i, row in prod_runs.iterrows():\n",
    "    if not row['complete']:\n",
    "        print(f'Warning: {row[\"reward\"]} is not done')\n",
    "    ref_path = os.path.relpath(row['path'], ref_dir)\n",
    "    link_path = os.path.join('reference-runs', row['reward'])\n",
    "    if os.path.exists(link_path):\n",
    "        os.unlink(link_path)\n",
    "    os.symlink(ref_path, link_path)"
   ]
  },
  {
   "cell_type": "code",
   "execution_count": null,
   "metadata": {},
   "outputs": [],
   "source": []
  }
 ],
 "metadata": {
  "kernelspec": {
   "display_name": "Python 3",
   "language": "python",
   "name": "python3"
  },
  "language_info": {
   "codemirror_mode": {
    "name": "ipython",
    "version": 3
   },
   "file_extension": ".py",
   "mimetype": "text/x-python",
   "name": "python",
   "nbconvert_exporter": "python",
   "pygments_lexer": "ipython3",
   "version": "3.6.10"
  }
 },
 "nbformat": 4,
 "nbformat_minor": 4
}
